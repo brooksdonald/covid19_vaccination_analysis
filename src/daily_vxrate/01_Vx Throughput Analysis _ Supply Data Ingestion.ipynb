{
 "cells": [
  {
   "cell_type": "markdown",
   "metadata": {
    "application/vnd.databricks.v1+cell": {
     "inputWidgets": {},
     "nuid": "1a6a1523-ddce-47aa-859a-46cda896805b",
     "showTitle": false,
     "title": ""
    }
   },
   "source": [
    "### Country Vx Throughput Analysis - Supply Data\n",
    " \n",
    "**Note:** Gets data for the WHO/BMGF/Gavi Vx Throughput task force.\n",
    "\n",
    "* Source:\n",
    "  - supply data input files are located here: https://teams.microsoft.com/_#/files/Dashboard%20of%20Dashboards?threadId=19%3A73aa2d526027440684f61b9116291b10%40thread.tacv2&ctx=channel&context=Data%2520Inputs&rootfolder=%252Fsites%252FCOVID-19GDPTeam%252FShared%2520Documents%252FDashboard%2520of%2520Dashboards%252F04_Analysis%252FCovax%2520Throughput%2520Analysis%252FData%2520Inputs\n",
    "  - Files:\n",
    "    - AFR_Revue COVID-19 Immunization DataEntry Tool_11 March 2021 AFR.xlsx\n",
    "    - data_export_WIISE_V_COV_PROC_LONG.xlsx\n",
    "      - Grain: Country + Data_Source + Month + Manufacturer_Description\n",
    "    - data_export_WIISE_V_COV_UTI_LONG.xlsx\n",
    "      - Grain: County + Source + Month + Manufacturer_Description\n",
    "    \n",
    "\n",
    "* Libraries: \n",
    "  - Python\n",
    "    - Office365-REST-Python-Client\n",
    "    - openpyxl\n",
    "\n",
    "* Built by: Jeremy Cooper\n",
    "* Current owner: Jeremy Cooper\n",
    "* Initial Build Date: 06/16/2021\n",
    "* Latest Build Date: 06/16/2021"
   ]
  },
  {
   "cell_type": "markdown",
   "metadata": {
    "application/vnd.databricks.v1+cell": {
     "inputWidgets": {},
     "nuid": "aa6a1b34-806b-4409-ac87-50a042f86037",
     "showTitle": false,
     "title": ""
    }
   },
   "source": [
    "### Environment Management"
   ]
  },
  {
   "cell_type": "code",
   "execution_count": 0,
   "metadata": {
    "application/vnd.databricks.v1+cell": {
     "inputWidgets": {},
     "nuid": "8cf86b9f-2ce8-4331-9fd5-77ec1827885d",
     "showTitle": false,
     "title": ""
    }
   },
   "outputs": [
    {
     "data": {
      "text/html": [
       "<style scoped>\n",
       "  .ansiout {\n",
       "    display: block;\n",
       "    unicode-bidi: embed;\n",
       "    white-space: pre-wrap;\n",
       "    word-wrap: break-word;\n",
       "    word-break: break-all;\n",
       "    font-family: \"Source Code Pro\", \"Menlo\", monospace;;\n",
       "    font-size: 13px;\n",
       "    color: #555;\n",
       "    margin-left: 4px;\n",
       "    line-height: 19px;\n",
       "  }\n",
       "</style>\n",
       "<div class=\"ansiout\"></div>"
      ]
     },
     "metadata": {
      "application/vnd.databricks.v1+output": {
       "addedWidgets": {},
       "arguments": {},
       "data": "<div class=\"ansiout\"></div>",
       "datasetInfos": [],
       "metadata": {},
       "removedWidgets": [],
       "type": "html"
      }
     },
     "output_type": "display_data"
    }
   ],
   "source": [
    "# dbutils.widgets.removeAll()\n",
    "# dbutils.widgets.remove(\"iso_code\")"
   ]
  },
  {
   "cell_type": "code",
   "execution_count": 0,
   "metadata": {
    "application/vnd.databricks.v1+cell": {
     "inputWidgets": {},
     "nuid": "87c168b2-8baf-443d-94ed-a573a98b94e6",
     "showTitle": false,
     "title": ""
    }
   },
   "outputs": [
    {
     "data": {
      "text/html": [
       "<style scoped>\n",
       "  .ansiout {\n",
       "    display: block;\n",
       "    unicode-bidi: embed;\n",
       "    white-space: pre-wrap;\n",
       "    word-wrap: break-word;\n",
       "    word-break: break-all;\n",
       "    font-family: \"Source Code Pro\", \"Menlo\", monospace;;\n",
       "    font-size: 13px;\n",
       "    color: #555;\n",
       "    margin-left: 4px;\n",
       "    line-height: 19px;\n",
       "  }\n",
       "</style>\n",
       "<div class=\"ansiout\"></div>"
      ]
     },
     "metadata": {
      "application/vnd.databricks.v1+output": {
       "addedWidgets": {},
       "arguments": {},
       "data": "<div class=\"ansiout\"></div>",
       "datasetInfos": [],
       "metadata": {},
       "removedWidgets": [],
       "type": "html"
      }
     },
     "output_type": "display_data"
    }
   ],
   "source": [
    "# # Dataset Name, will be used for the Metastore Table, Folder Name for transformed outputs\n",
    "# dbutils.widgets.text(\"Dataset\", \"\")\n",
    "\n",
    "# # Project Name will be used for folder Name for transformed outputs\n",
    "# dbutils.widgets.text(\"Project\", \"\")\n",
    "\n",
    "# # Team name should be consistent with the Blob Storage Container\n",
    "# dbutils.widgets.text(\"Partner\",\"\")\n",
    "\n",
    "# # Team name should be consistent with the Blob Storage Container\n",
    "# dbutils.widgets.text(\"Source\",\"\")\n",
    "\n",
    "# dbutils.widgets.text(\"iso_code\", \"\")"
   ]
  },
  {
   "cell_type": "markdown",
   "metadata": {
    "application/vnd.databricks.v1+cell": {
     "inputWidgets": {},
     "nuid": "63b347a0-a363-48ba-976c-4e2fb71501d6",
     "showTitle": false,
     "title": ""
    }
   },
   "source": [
    "#### Notebook Setup"
   ]
  },
  {
   "cell_type": "markdown",
   "metadata": {
    "application/vnd.databricks.v1+cell": {
     "inputWidgets": {},
     "nuid": "c32f5c9e-051a-4181-962e-3fd0087dc129",
     "showTitle": false,
     "title": ""
    }
   },
   "source": [
    "##### Import any libraries or nested notebooks"
   ]
  },
  {
   "cell_type": "code",
   "execution_count": 0,
   "metadata": {
    "application/vnd.databricks.v1+cell": {
     "inputWidgets": {},
     "nuid": "da3556e8-36fd-4043-90ab-8482354850e0",
     "showTitle": false,
     "title": ""
    }
   },
   "outputs": [
    {
     "data": {
      "text/html": [
       "<style scoped>\n",
       "  .ansiout {\n",
       "    display: block;\n",
       "    unicode-bidi: embed;\n",
       "    white-space: pre-wrap;\n",
       "    word-wrap: break-word;\n",
       "    word-break: break-all;\n",
       "    font-family: \"Source Code Pro\", \"Menlo\", monospace;;\n",
       "    font-size: 13px;\n",
       "    color: #555;\n",
       "    margin-left: 4px;\n",
       "    line-height: 19px;\n",
       "  }\n",
       "</style>\n",
       "<div class=\"ansiout\">Python interpreter will be restarted.\n",
       "Collecting Office365-REST-Python-Client\n",
       "  Downloading Office365_REST_Python_Client-2.3.8-py3-none-any.whl (430 kB)\n",
       "Collecting msal\n",
       "  Downloading msal-1.14.0-py2.py3-none-any.whl (75 kB)\n",
       "Requirement already satisfied: requests in /local_disk0/.ephemeral_nfs/envs/pythonEnv-912e7167-3588-48f6-bacb-4175423e7830/lib/python3.8/site-packages (from Office365-REST-Python-Client) (2.24.0)\n",
       "Requirement already satisfied: cryptography&lt;4,&gt;=0.6 in /local_disk0/.ephemeral_nfs/envs/pythonEnv-912e7167-3588-48f6-bacb-4175423e7830/lib/python3.8/site-packages (from msal-&gt;Office365-REST-Python-Client) (3.1.1)\n",
       "Requirement already satisfied: PyJWT[crypto]&lt;3,&gt;=1.0.0 in /local_disk0/.ephemeral_nfs/envs/pythonEnv-912e7167-3588-48f6-bacb-4175423e7830/lib/python3.8/site-packages (from msal-&gt;Office365-REST-Python-Client) (1.7.1)\n",
       "Requirement already satisfied: chardet&lt;4,&gt;=3.0.2 in /local_disk0/.ephemeral_nfs/envs/pythonEnv-912e7167-3588-48f6-bacb-4175423e7830/lib/python3.8/site-packages (from requests-&gt;Office365-REST-Python-Client) (3.0.4)\n",
       "Requirement already satisfied: urllib3!=1.25.0,!=1.25.1,&lt;1.26,&gt;=1.21.1 in /local_disk0/.ephemeral_nfs/envs/pythonEnv-912e7167-3588-48f6-bacb-4175423e7830/lib/python3.8/site-packages (from requests-&gt;Office365-REST-Python-Client) (1.25.11)\n",
       "Requirement already satisfied: idna&lt;3,&gt;=2.5 in /local_disk0/.ephemeral_nfs/envs/pythonEnv-912e7167-3588-48f6-bacb-4175423e7830/lib/python3.8/site-packages (from requests-&gt;Office365-REST-Python-Client) (2.10)\n",
       "Requirement already satisfied: certifi&gt;=2017.4.17 in /local_disk0/.ephemeral_nfs/envs/pythonEnv-912e7167-3588-48f6-bacb-4175423e7830/lib/python3.8/site-packages (from requests-&gt;Office365-REST-Python-Client) (2020.12.5)\n",
       "Requirement already satisfied: cffi!=1.11.3,&gt;=1.8 in /local_disk0/.ephemeral_nfs/envs/pythonEnv-912e7167-3588-48f6-bacb-4175423e7830/lib/python3.8/site-packages (from cryptography&lt;4,&gt;=0.6-&gt;msal-&gt;Office365-REST-Python-Client) (1.14.3)\n",
       "Requirement already satisfied: six&gt;=1.4.1 in /local_disk0/.ephemeral_nfs/envs/pythonEnv-912e7167-3588-48f6-bacb-4175423e7830/lib/python3.8/site-packages (from cryptography&lt;4,&gt;=0.6-&gt;msal-&gt;Office365-REST-Python-Client) (1.15.0)\n",
       "Requirement already satisfied: pycparser in /local_disk0/.ephemeral_nfs/envs/pythonEnv-912e7167-3588-48f6-bacb-4175423e7830/lib/python3.8/site-packages (from cffi!=1.11.3,&gt;=1.8-&gt;cryptography&lt;4,&gt;=0.6-&gt;msal-&gt;Office365-REST-Python-Client) (2.20)\n",
       "Installing collected packages: msal, Office365-REST-Python-Client\n",
       "Successfully installed Office365-REST-Python-Client-2.3.8 msal-1.14.0\n",
       "Python interpreter will be restarted.\n",
       "</div>"
      ]
     },
     "metadata": {
      "application/vnd.databricks.v1+output": {
       "addedWidgets": {},
       "arguments": {},
       "data": "<div class=\"ansiout\">Python interpreter will be restarted.\nCollecting Office365-REST-Python-Client\n  Downloading Office365_REST_Python_Client-2.3.8-py3-none-any.whl (430 kB)\nCollecting msal\n  Downloading msal-1.14.0-py2.py3-none-any.whl (75 kB)\nRequirement already satisfied: requests in /local_disk0/.ephemeral_nfs/envs/pythonEnv-912e7167-3588-48f6-bacb-4175423e7830/lib/python3.8/site-packages (from Office365-REST-Python-Client) (2.24.0)\nRequirement already satisfied: cryptography&lt;4,&gt;=0.6 in /local_disk0/.ephemeral_nfs/envs/pythonEnv-912e7167-3588-48f6-bacb-4175423e7830/lib/python3.8/site-packages (from msal-&gt;Office365-REST-Python-Client) (3.1.1)\nRequirement already satisfied: PyJWT[crypto]&lt;3,&gt;=1.0.0 in /local_disk0/.ephemeral_nfs/envs/pythonEnv-912e7167-3588-48f6-bacb-4175423e7830/lib/python3.8/site-packages (from msal-&gt;Office365-REST-Python-Client) (1.7.1)\nRequirement already satisfied: chardet&lt;4,&gt;=3.0.2 in /local_disk0/.ephemeral_nfs/envs/pythonEnv-912e7167-3588-48f6-bacb-4175423e7830/lib/python3.8/site-packages (from requests-&gt;Office365-REST-Python-Client) (3.0.4)\nRequirement already satisfied: urllib3!=1.25.0,!=1.25.1,&lt;1.26,&gt;=1.21.1 in /local_disk0/.ephemeral_nfs/envs/pythonEnv-912e7167-3588-48f6-bacb-4175423e7830/lib/python3.8/site-packages (from requests-&gt;Office365-REST-Python-Client) (1.25.11)\nRequirement already satisfied: idna&lt;3,&gt;=2.5 in /local_disk0/.ephemeral_nfs/envs/pythonEnv-912e7167-3588-48f6-bacb-4175423e7830/lib/python3.8/site-packages (from requests-&gt;Office365-REST-Python-Client) (2.10)\nRequirement already satisfied: certifi&gt;=2017.4.17 in /local_disk0/.ephemeral_nfs/envs/pythonEnv-912e7167-3588-48f6-bacb-4175423e7830/lib/python3.8/site-packages (from requests-&gt;Office365-REST-Python-Client) (2020.12.5)\nRequirement already satisfied: cffi!=1.11.3,&gt;=1.8 in /local_disk0/.ephemeral_nfs/envs/pythonEnv-912e7167-3588-48f6-bacb-4175423e7830/lib/python3.8/site-packages (from cryptography&lt;4,&gt;=0.6-&gt;msal-&gt;Office365-REST-Python-Client) (1.14.3)\nRequirement already satisfied: six&gt;=1.4.1 in /local_disk0/.ephemeral_nfs/envs/pythonEnv-912e7167-3588-48f6-bacb-4175423e7830/lib/python3.8/site-packages (from cryptography&lt;4,&gt;=0.6-&gt;msal-&gt;Office365-REST-Python-Client) (1.15.0)\nRequirement already satisfied: pycparser in /local_disk0/.ephemeral_nfs/envs/pythonEnv-912e7167-3588-48f6-bacb-4175423e7830/lib/python3.8/site-packages (from cffi!=1.11.3,&gt;=1.8-&gt;cryptography&lt;4,&gt;=0.6-&gt;msal-&gt;Office365-REST-Python-Client) (2.20)\nInstalling collected packages: msal, Office365-REST-Python-Client\nSuccessfully installed Office365-REST-Python-Client-2.3.8 msal-1.14.0\nPython interpreter will be restarted.\n</div>",
       "datasetInfos": [],
       "metadata": {},
       "removedWidgets": [],
       "type": "html"
      }
     },
     "output_type": "display_data"
    }
   ],
   "source": [
    "pip install Office365-REST-Python-Client"
   ]
  },
  {
   "cell_type": "code",
   "execution_count": 0,
   "metadata": {
    "application/vnd.databricks.v1+cell": {
     "inputWidgets": {},
     "nuid": "197f5d8a-abf3-40f7-a6c7-b8d5e1b87618",
     "showTitle": false,
     "title": ""
    }
   },
   "outputs": [
    {
     "data": {
      "text/html": [
       "<style scoped>\n",
       "  .ansiout {\n",
       "    display: block;\n",
       "    unicode-bidi: embed;\n",
       "    white-space: pre-wrap;\n",
       "    word-wrap: break-word;\n",
       "    word-break: break-all;\n",
       "    font-family: \"Source Code Pro\", \"Menlo\", monospace;;\n",
       "    font-size: 13px;\n",
       "    color: #555;\n",
       "    margin-left: 4px;\n",
       "    line-height: 19px;\n",
       "  }\n",
       "</style>\n",
       "<div class=\"ansiout\">Python interpreter will be restarted.\n",
       "Collecting openpyxl\n",
       "  Downloading openpyxl-3.0.8-py2.py3-none-any.whl (244 kB)\n",
       "Collecting et-xmlfile\n",
       "  Downloading et_xmlfile-1.1.0-py3-none-any.whl (4.7 kB)\n",
       "Installing collected packages: et-xmlfile, openpyxl\n",
       "Successfully installed et-xmlfile-1.1.0 openpyxl-3.0.8\n",
       "Python interpreter will be restarted.\n",
       "</div>"
      ]
     },
     "metadata": {
      "application/vnd.databricks.v1+output": {
       "addedWidgets": {},
       "arguments": {},
       "data": "<div class=\"ansiout\">Python interpreter will be restarted.\nCollecting openpyxl\n  Downloading openpyxl-3.0.8-py2.py3-none-any.whl (244 kB)\nCollecting et-xmlfile\n  Downloading et_xmlfile-1.1.0-py3-none-any.whl (4.7 kB)\nInstalling collected packages: et-xmlfile, openpyxl\nSuccessfully installed et-xmlfile-1.1.0 openpyxl-3.0.8\nPython interpreter will be restarted.\n</div>",
       "datasetInfos": [],
       "metadata": {},
       "removedWidgets": [],
       "type": "html"
      }
     },
     "output_type": "display_data"
    }
   ],
   "source": [
    "pip install openpyxl"
   ]
  },
  {
   "cell_type": "code",
   "execution_count": 0,
   "metadata": {
    "application/vnd.databricks.v1+cell": {
     "inputWidgets": {},
     "nuid": "9fb3b5cb-4b42-46a7-b1e4-c3c2a6a57c5e",
     "showTitle": false,
     "title": ""
    }
   },
   "outputs": [
    {
     "data": {
      "text/html": [
       "<style scoped>\n",
       "  .ansiout {\n",
       "    display: block;\n",
       "    unicode-bidi: embed;\n",
       "    white-space: pre-wrap;\n",
       "    word-wrap: break-word;\n",
       "    word-break: break-all;\n",
       "    font-family: \"Source Code Pro\", \"Menlo\", monospace;;\n",
       "    font-size: 13px;\n",
       "    color: #555;\n",
       "    margin-left: 4px;\n",
       "    line-height: 19px;\n",
       "  }\n",
       "</style>\n",
       "<div class=\"ansiout\"></div>"
      ]
     },
     "metadata": {
      "application/vnd.databricks.v1+output": {
       "addedWidgets": {},
       "arguments": {},
       "data": "<div class=\"ansiout\"></div>",
       "datasetInfos": [],
       "metadata": {},
       "removedWidgets": [],
       "type": "html"
      }
     },
     "output_type": "display_data"
    }
   ],
   "source": [
    "from office365.runtime.auth.authentication_context import AuthenticationContext\n",
    "from office365.sharepoint.client_context import ClientContext\n",
    "from office365.sharepoint.files.file import File\n",
    "\n",
    "from openpyxl import load_workbook\n",
    "import pandas as pd\n",
    "import datetime\n",
    "\n",
    "from delta.tables import *\n",
    "from pyspark.sql.types import *\n",
    "from pyspark.sql.functions import *\n",
    "from pyspark.sql.window import Window"
   ]
  },
  {
   "cell_type": "markdown",
   "metadata": {
    "application/vnd.databricks.v1+cell": {
     "inputWidgets": {},
     "nuid": "27cecf74-4d04-4e69-9548-483ac507c8ef",
     "showTitle": false,
     "title": ""
    }
   },
   "source": [
    "##### Initialize File Paths"
   ]
  },
  {
   "cell_type": "code",
   "execution_count": 0,
   "metadata": {
    "application/vnd.databricks.v1+cell": {
     "inputWidgets": {},
     "nuid": "bf1f0ba6-3f3f-4678-a71e-0e7042b1dd4f",
     "showTitle": false,
     "title": ""
    }
   },
   "outputs": [
    {
     "data": {
      "text/html": [
       "<style scoped>\n",
       "  .ansiout {\n",
       "    display: block;\n",
       "    unicode-bidi: embed;\n",
       "    white-space: pre-wrap;\n",
       "    word-wrap: break-word;\n",
       "    word-break: break-all;\n",
       "    font-family: \"Source Code Pro\", \"Menlo\", monospace;;\n",
       "    font-size: 13px;\n",
       "    color: #555;\n",
       "    margin-left: 4px;\n",
       "    line-height: 19px;\n",
       "  }\n",
       "</style>\n",
       "<div class=\"ansiout\">/mnt/covax-supply-chain-analytics/raw/who/analysis_vx_throughput_supply\n",
       "/mnt/covax-supply-chain-analytics/transformed/who/analysis_vx_throughput_supply\n",
       "</div>"
      ]
     },
     "metadata": {
      "application/vnd.databricks.v1+output": {
       "addedWidgets": {},
       "arguments": {},
       "data": "<div class=\"ansiout\">/mnt/covax-supply-chain-analytics/raw/who/analysis_vx_throughput_supply\n/mnt/covax-supply-chain-analytics/transformed/who/analysis_vx_throughput_supply\n</div>",
       "datasetInfos": [],
       "metadata": {},
       "removedWidgets": [],
       "type": "html"
      }
     },
     "output_type": "display_data"
    }
   ],
   "source": [
    "storage_root = \"/mnt/\"+dbutils.widgets.get(\"Partner\")+\"/\"\n",
    "storage_branch = \"/\"+dbutils.widgets.get(\"Source\")+\"/\" +dbutils.widgets.get(\"Dataset\")\n",
    "\n",
    "raw_storage_path = storage_root + \"raw\" +storage_branch\n",
    "dbfs_raw_storage_path = \"/dbfs\"+raw_storage_path\n",
    "\n",
    "transformed_storage_path = storage_root + \"transformed\" +storage_branch\n",
    "dbfs_transformed_storage_path = \"/dbfs\"+transformed_storage_path\n",
    "\n",
    "print(raw_storage_path)\n",
    "print(transformed_storage_path)"
   ]
  },
  {
   "cell_type": "markdown",
   "metadata": {
    "application/vnd.databricks.v1+cell": {
     "inputWidgets": {},
     "nuid": "e9bf8d75-d472-43df-8ca2-ee18441c2a1b",
     "showTitle": false,
     "title": ""
    }
   },
   "source": [
    "### Get Data"
   ]
  },
  {
   "cell_type": "code",
   "execution_count": 0,
   "metadata": {
    "application/vnd.databricks.v1+cell": {
     "inputWidgets": {},
     "nuid": "c1a28cff-e09b-4a0e-be47-e5dd33797dc7",
     "showTitle": false,
     "title": ""
    }
   },
   "outputs": [
    {
     "data": {
      "text/html": [
       "<style scoped>\n",
       "  .ansiout {\n",
       "    display: block;\n",
       "    unicode-bidi: embed;\n",
       "    white-space: pre-wrap;\n",
       "    word-wrap: break-word;\n",
       "    word-break: break-all;\n",
       "    font-family: \"Source Code Pro\", \"Menlo\", monospace;;\n",
       "    font-size: 13px;\n",
       "    color: #555;\n",
       "    margin-left: 4px;\n",
       "    line-height: 19px;\n",
       "  }\n",
       "</style>\n",
       "<div class=\"ansiout\"></div>"
      ]
     },
     "metadata": {
      "application/vnd.databricks.v1+output": {
       "addedWidgets": {},
       "arguments": {},
       "data": "<div class=\"ansiout\"></div>",
       "datasetInfos": [],
       "metadata": {},
       "removedWidgets": [],
       "type": "html"
      }
     },
     "output_type": "display_data"
    }
   ],
   "source": [
    "uti_file_name = 'data_export_WIISE_V_COV_UTI_LONG'\n",
    "sheet_name = 'data_export_WIISE_V_COV_UTI_LON'"
   ]
  },
  {
   "cell_type": "code",
   "execution_count": 0,
   "metadata": {
    "application/vnd.databricks.v1+cell": {
     "inputWidgets": {},
     "nuid": "c2adafbe-0d1f-4a76-a6d9-7361e6033f19",
     "showTitle": false,
     "title": ""
    }
   },
   "outputs": [
    {
     "data": {
      "text/html": [
       "<style scoped>\n",
       "  .ansiout {\n",
       "    display: block;\n",
       "    unicode-bidi: embed;\n",
       "    white-space: pre-wrap;\n",
       "    word-wrap: break-word;\n",
       "    word-break: break-all;\n",
       "    font-family: \"Source Code Pro\", \"Menlo\", monospace;;\n",
       "    font-size: 13px;\n",
       "    color: #555;\n",
       "    margin-left: 4px;\n",
       "    line-height: 19px;\n",
       "  }\n",
       "</style>\n",
       "<div class=\"ansiout\"></div>"
      ]
     },
     "metadata": {
      "application/vnd.databricks.v1+output": {
       "addedWidgets": {},
       "arguments": {},
       "data": "<div class=\"ansiout\"></div>",
       "datasetInfos": [],
       "metadata": {},
       "removedWidgets": [],
       "type": "html"
      }
     },
     "output_type": "display_data"
    }
   ],
   "source": [
    "# parameters for reading data directly from Excel stored on Teams/SharePoint\n",
    "Tenant_ID = '296b3838-4bd5-496c-bd4b-f456ea743b74'\n",
    "Client_ID = 'bdd5dcc6-2d9b-40d8-b419-61633eb0e380'\n",
    "Client_secret = dbutils.secrets.get(\"dse-datasci-keyvault\", \"GDP-Covax-SPSecret\")\n",
    "\n",
    "sp_url = 'https://bmgf.sharepoint.com/sites/COVID-19GDPTeam'\n",
    "app_settings = {\n",
    "     'url': sp_url,\n",
    "     'client_id': Client_ID,\n",
    "     'client_secret': Client_secret,\n",
    "}\n",
    "\n",
    "ctx_auth = AuthenticationContext(url=app_settings['url'])\n",
    "ctx_auth.acquire_token_for_app(client_id=app_settings['client_id'], client_secret=app_settings['client_secret'])\n",
    "ctx = ClientContext(app_settings['url'], ctx_auth)"
   ]
  },
  {
   "cell_type": "code",
   "execution_count": 0,
   "metadata": {
    "application/vnd.databricks.v1+cell": {
     "inputWidgets": {},
     "nuid": "a379ebbf-3f79-4bc8-8fe9-737b1b45acb5",
     "showTitle": false,
     "title": ""
    }
   },
   "outputs": [
    {
     "data": {
      "text/html": [
       "<style scoped>\n",
       "  .ansiout {\n",
       "    display: block;\n",
       "    unicode-bidi: embed;\n",
       "    white-space: pre-wrap;\n",
       "    word-wrap: break-word;\n",
       "    word-break: break-all;\n",
       "    font-family: \"Source Code Pro\", \"Menlo\", monospace;;\n",
       "    font-size: 13px;\n",
       "    color: #555;\n",
       "    margin-left: 4px;\n",
       "    line-height: 19px;\n",
       "  }\n",
       "</style>\n",
       "<div class=\"ansiout\"></div>"
      ]
     },
     "metadata": {
      "application/vnd.databricks.v1+output": {
       "addedWidgets": {},
       "arguments": {},
       "data": "<div class=\"ansiout\"></div>",
       "datasetInfos": [],
       "metadata": {},
       "removedWidgets": [],
       "type": "html"
      }
     },
     "output_type": "display_data"
    }
   ],
   "source": [
    "iso_code = dbutils.widgets.get(\"iso_code\")"
   ]
  },
  {
   "cell_type": "code",
   "execution_count": 0,
   "metadata": {
    "application/vnd.databricks.v1+cell": {
     "inputWidgets": {},
     "nuid": "51e2f2b8-06cc-4e40-b067-f76bc5298193",
     "showTitle": false,
     "title": ""
    }
   },
   "outputs": [
    {
     "data": {
      "text/html": [
       "<style scoped>\n",
       "  .ansiout {\n",
       "    display: block;\n",
       "    unicode-bidi: embed;\n",
       "    white-space: pre-wrap;\n",
       "    word-wrap: break-word;\n",
       "    word-break: break-all;\n",
       "    font-family: \"Source Code Pro\", \"Menlo\", monospace;;\n",
       "    font-size: 13px;\n",
       "    color: #555;\n",
       "    margin-left: 4px;\n",
       "    line-height: 19px;\n",
       "  }\n",
       "</style>\n",
       "<div class=\"ansiout\"></div>"
      ]
     },
     "metadata": {
      "application/vnd.databricks.v1+output": {
       "addedWidgets": {},
       "arguments": {},
       "data": "<div class=\"ansiout\"></div>",
       "datasetInfos": [],
       "metadata": {},
       "removedWidgets": [],
       "type": "html"
      }
     },
     "output_type": "display_data"
    }
   ],
   "source": [
    "country_dimension = spark.sql(\"SELECT * FROM covax_supply_chain_analytics.covax_sca_country_dimension\") \\\n",
    "  .select('iso_code', 'country_name_friendly')\n",
    "\n",
    "awho = spark.sql(\"SELECT * FROM covax_supply_chain_analytics.africa_who_vx\")\n",
    "\n",
    "vx_supply = spark.sql(\"SELECT * FROM covax_supply_chain_analytics.vx_supply\")"
   ]
  },
  {
   "cell_type": "markdown",
   "metadata": {
    "application/vnd.databricks.v1+cell": {
     "inputWidgets": {},
     "nuid": "0b74e9cb-d651-4e59-b418-42e7d433c2d5",
     "showTitle": false,
     "title": ""
    }
   },
   "source": [
    "### Transformation"
   ]
  },
  {
   "cell_type": "code",
   "execution_count": 0,
   "metadata": {
    "application/vnd.databricks.v1+cell": {
     "inputWidgets": {},
     "nuid": "d0e06c31-791a-413f-969f-c414e6b737cc",
     "showTitle": false,
     "title": ""
    }
   },
   "outputs": [
    {
     "data": {
      "text/html": [
       "<style scoped>\n",
       "  .ansiout {\n",
       "    display: block;\n",
       "    unicode-bidi: embed;\n",
       "    white-space: pre-wrap;\n",
       "    word-wrap: break-word;\n",
       "    word-break: break-all;\n",
       "    font-family: \"Source Code Pro\", \"Menlo\", monospace;;\n",
       "    font-size: 13px;\n",
       "    color: #555;\n",
       "    margin-left: 4px;\n",
       "    line-height: 19px;\n",
       "  }\n",
       "</style>\n",
       "<div class=\"ansiout\"></div>"
      ]
     },
     "metadata": {
      "application/vnd.databricks.v1+output": {
       "addedWidgets": {},
       "arguments": {},
       "data": "<div class=\"ansiout\"></div>",
       "datasetInfos": [],
       "metadata": {},
       "removedWidgets": [],
       "type": "html"
      }
     },
     "output_type": "display_data"
    }
   ],
   "source": [
    "# # define schema for dataframe\n",
    "# schema1 = StructType([\n",
    "#   StructField(\"iso_code\", StringType()),\n",
    "#   StructField(\"country_name\", StringType()),\n",
    "#   StructField(\"doses_received\", StringType()),\n",
    "#   StructField(\"procurement_type\", StringType()),\n",
    "#   StructField(\"date\", StringType()),\n",
    "# ])\n",
    "\n",
    "# file_path = '/sites/COVID-19GDPTeam/Shared Documents/Dashboard of Dashboards/04_Analysis/Covax Throughput Analysis/Data Inputs/data_export_WIISE_V_COV_PROC_LONG.xlsx'\n",
    "# local_save_path = '/dbfs/tmp/data_export_WIISE_V_COV_PROC_LONG.xlsx'\n",
    "# sheet_name = 'v_COV_PROC_LONG'\n",
    "\n",
    "# response = File.open_binary(ctx, file_path)\n",
    "# with open(local_save_path, \"wb\") as local_file:\n",
    "#     local_file.write(response.content)\n",
    "\n",
    "# # read in data, convert to df, validate columns, filter out blank rows, convert to spark df\n",
    "# wb = load_workbook(local_save_path, data_only=True)\n",
    "# ws = wb[sheet_name]\n",
    "# df = pd.DataFrame(ws.values)\n",
    "# df.columns = df.iloc[0]\n",
    "# df = df[1:].astype(str)\n",
    "# df = df[['ISO_3_CODE', 'COUNTRYNAME', 'YEAR', 'MONTH', 'TOTAL_DOSES', 'PROCUREMENT_TYPE']]\n",
    "# df = df[df['COUNTRYNAME']!='None']\n",
    "\n",
    "# df.columns = ['iso_code', 'country_name', 'year', 'month', 'doses_received', 'procurement_type']\n",
    "\n",
    "# # create date column\n",
    "# df['day'] = '1'\n",
    "# cols = ['year', 'month', 'day']\n",
    "# df['date'] = df[cols].apply(lambda x: '-'.join(x.values.astype(str)), axis='columns')\n",
    "# df['date'] = pd.to_datetime(df['date']).dt.date\n",
    "# df = df.drop(columns=['year', 'month', 'day'])\n",
    "\n",
    "# df['date'] = df['date'].astype(str)\n",
    "# df_proc = spark.createDataFrame(df, schema=schema1)\n",
    "\n",
    "# df_proc = df_proc \\\n",
    "#  .groupBy('iso_code', 'date').agg(sum('doses_received')).withColumnRenamed('sum(doses_received)', 'doses_received') \\\n",
    "#   .withColumn('cumulative_doses_received', sum('doses_received').over(Window.partitionBy('iso_code').orderBy('date').rowsBetween(-sys.maxsize, 0))) \\\n",
    "#   .select('iso_code', 'date', 'cumulative_doses_received') \\\n",
    "#   .toDF('iso_code', 'date', 'cumulative_doses_received_proc')\n",
    "\n",
    "# # display(df)\n",
    "# # display(df_proc)"
   ]
  },
  {
   "cell_type": "code",
   "execution_count": 0,
   "metadata": {
    "application/vnd.databricks.v1+cell": {
     "inputWidgets": {},
     "nuid": "b865570c-d56b-4411-8866-554e61534e72",
     "showTitle": false,
     "title": ""
    }
   },
   "outputs": [
    {
     "data": {
      "text/html": [
       "<style scoped>\n",
       "  .table-result-container {\n",
       "    max-height: 300px;\n",
       "    overflow: auto;\n",
       "  }\n",
       "  table, th, td {\n",
       "    border: 1px solid black;\n",
       "    border-collapse: collapse;\n",
       "  }\n",
       "  th, td {\n",
       "    padding: 5px;\n",
       "  }\n",
       "  th {\n",
       "    text-align: left;\n",
       "  }\n",
       "</style><div class='table-result-container'><table class='table-result'><thead style='background-color: white'><tr><th>iso_code</th><th>country_name</th><th>data_source</th><th>manufacturer</th><th>doses_received</th><th>date</th></tr></thead><tbody><tr><td>CIV</td><td>Côte d'Ivoire</td><td>EJRF</td><td>Serum Institute of India</td><td>554000</td><td>2021-03-01</td></tr><tr><td>CIV</td><td>Côte d'Ivoire</td><td>EJRF</td><td>AstraZeneca</td><td>554000</td><td>2021-04-01</td></tr><tr><td>CIV</td><td>Côte d'Ivoire</td><td>AFR</td><td>AstraZeneca</td><td>729000</td><td>2021-05-01</td></tr><tr><td>CIV</td><td>Côte d'Ivoire</td><td>AFR</td><td>Serum Institute of India</td><td>50000</td><td>2021-05-01</td></tr><tr><td>CIV</td><td>Côte d'Ivoire</td><td>EJRF</td><td>AstraZeneca</td><td>1095950</td><td>2021-07-01</td></tr><tr><td>CIV</td><td>Côte d'Ivoire</td><td>EJRF</td><td>Pfizer BioNTech</td><td>100620</td><td>2021-07-01</td></tr><tr><td>CIV</td><td>Côte d'Ivoire</td><td>EJRF</td><td>Beijing Bio-Institute Biological Products (CNBG)</td><td>100000</td><td>2021-07-01</td></tr><tr><td>CIV</td><td>Côte d'Ivoire</td><td>EJRF</td><td>AstraZeneca</td><td>827130</td><td>2021-06-01</td></tr></tbody></table></div>"
      ]
     },
     "metadata": {
      "application/vnd.databricks.v1+output": {
       "addedWidgets": {},
       "aggData": [],
       "aggError": "",
       "aggOverflow": false,
       "aggSchema": [],
       "aggSeriesLimitReached": false,
       "aggType": "",
       "arguments": {},
       "columnCustomDisplayInfos": {},
       "data": [
        [
         "CIV",
         "Côte d'Ivoire",
         "EJRF",
         "Serum Institute of India",
         "554000",
         "2021-03-01"
        ],
        [
         "CIV",
         "Côte d'Ivoire",
         "EJRF",
         "AstraZeneca",
         "554000",
         "2021-04-01"
        ],
        [
         "CIV",
         "Côte d'Ivoire",
         "AFR",
         "AstraZeneca",
         "729000",
         "2021-05-01"
        ],
        [
         "CIV",
         "Côte d'Ivoire",
         "AFR",
         "Serum Institute of India",
         "50000",
         "2021-05-01"
        ],
        [
         "CIV",
         "Côte d'Ivoire",
         "EJRF",
         "AstraZeneca",
         "1095950",
         "2021-07-01"
        ],
        [
         "CIV",
         "Côte d'Ivoire",
         "EJRF",
         "Pfizer BioNTech",
         "100620",
         "2021-07-01"
        ],
        [
         "CIV",
         "Côte d'Ivoire",
         "EJRF",
         "Beijing Bio-Institute Biological Products (CNBG)",
         "100000",
         "2021-07-01"
        ],
        [
         "CIV",
         "Côte d'Ivoire",
         "EJRF",
         "AstraZeneca",
         "827130",
         "2021-06-01"
        ]
       ],
       "datasetInfos": [],
       "dbfsResultPath": null,
       "isJsonSchema": true,
       "metadata": {},
       "overflow": false,
       "plotOptions": {
        "customPlotOptions": {},
        "displayType": "table",
        "pivotAggregation": null,
        "pivotColumns": null,
        "xColumns": null,
        "yColumns": null
       },
       "removedWidgets": [],
       "schema": [
        {
         "metadata": "{}",
         "name": "iso_code",
         "type": "\"string\""
        },
        {
         "metadata": "{}",
         "name": "country_name",
         "type": "\"string\""
        },
        {
         "metadata": "{}",
         "name": "data_source",
         "type": "\"string\""
        },
        {
         "metadata": "{}",
         "name": "manufacturer",
         "type": "\"string\""
        },
        {
         "metadata": "{}",
         "name": "doses_received",
         "type": "\"string\""
        },
        {
         "metadata": "{}",
         "name": "date",
         "type": "\"string\""
        }
       ],
       "type": "table"
      }
     },
     "output_type": "display_data"
    },
    {
     "data": {
      "text/html": [
       "<style scoped>\n",
       "  .table-result-container {\n",
       "    max-height: 300px;\n",
       "    overflow: auto;\n",
       "  }\n",
       "  table, th, td {\n",
       "    border: 1px solid black;\n",
       "    border-collapse: collapse;\n",
       "  }\n",
       "  th, td {\n",
       "    padding: 5px;\n",
       "  }\n",
       "  th {\n",
       "    text-align: left;\n",
       "  }\n",
       "</style><div class='table-result-container'><table class='table-result'><thead style='background-color: white'><tr><th>iso_code</th><th>date</th><th>cumulative_doses_received_uti</th><th>monthly_doses_recieved_uti</th><th>date_accessed</th></tr></thead><tbody><tr><td>CIV</td><td>2021-03-01</td><td>554000.0</td><td>554000.0</td><td>2021-09-13</td></tr><tr><td>CIV</td><td>2021-04-01</td><td>554000.0</td><td>0.0</td><td>2021-09-13</td></tr><tr><td>CIV</td><td>2021-05-01</td><td>779000.0</td><td>225000.0</td><td>2021-09-13</td></tr><tr><td>CIV</td><td>2021-06-01</td><td>827130.0</td><td>48130.0</td><td>2021-09-13</td></tr><tr><td>CIV</td><td>2021-07-01</td><td>1296570.0</td><td>469440.0</td><td>2021-09-13</td></tr></tbody></table></div>"
      ]
     },
     "metadata": {
      "application/vnd.databricks.v1+output": {
       "addedWidgets": {},
       "aggData": [],
       "aggError": "",
       "aggOverflow": false,
       "aggSchema": [],
       "aggSeriesLimitReached": false,
       "aggType": "",
       "arguments": {},
       "columnCustomDisplayInfos": {},
       "data": [
        [
         "CIV",
         "2021-03-01",
         554000,
         554000,
         "2021-09-13"
        ],
        [
         "CIV",
         "2021-04-01",
         554000,
         0,
         "2021-09-13"
        ],
        [
         "CIV",
         "2021-05-01",
         779000,
         225000,
         "2021-09-13"
        ],
        [
         "CIV",
         "2021-06-01",
         827130,
         48130,
         "2021-09-13"
        ],
        [
         "CIV",
         "2021-07-01",
         1296570,
         469440,
         "2021-09-13"
        ]
       ],
       "datasetInfos": [],
       "dbfsResultPath": null,
       "isJsonSchema": true,
       "metadata": {},
       "overflow": false,
       "plotOptions": {
        "customPlotOptions": {},
        "displayType": "table",
        "pivotAggregation": null,
        "pivotColumns": null,
        "xColumns": null,
        "yColumns": null
       },
       "removedWidgets": [],
       "schema": [
        {
         "metadata": "{}",
         "name": "iso_code",
         "type": "\"string\""
        },
        {
         "metadata": "{}",
         "name": "date",
         "type": "\"string\""
        },
        {
         "metadata": "{}",
         "name": "cumulative_doses_received_uti",
         "type": "\"double\""
        },
        {
         "metadata": "{}",
         "name": "monthly_doses_recieved_uti",
         "type": "\"double\""
        },
        {
         "metadata": "{}",
         "name": "date_accessed",
         "type": "\"date\""
        }
       ],
       "type": "table"
      }
     },
     "output_type": "display_data"
    },
    {
     "data": {
      "text/html": [
       "<style scoped>\n",
       "  .table-result-container {\n",
       "    max-height: 300px;\n",
       "    overflow: auto;\n",
       "  }\n",
       "  table, th, td {\n",
       "    border: 1px solid black;\n",
       "    border-collapse: collapse;\n",
       "  }\n",
       "  th, td {\n",
       "    padding: 5px;\n",
       "  }\n",
       "  th {\n",
       "    text-align: left;\n",
       "  }\n",
       "</style><div class='table-result-container'><table class='table-result'><thead style='background-color: white'><tr><th>iso_code</th><th>date</th><th>cumulative_doses_received_uti</th><th>monthly_doses_recieved_uti</th><th>date_accessed</th></tr></thead><tbody><tr><td>CAF</td><td>2021-05-01</td><td>115000.0</td><td>-115000.0</td><td>2021-09-13</td></tr><tr><td>DMA</td><td>2021-07-01</td><td>20000.0</td><td>-98000.0</td><td>2021-09-13</td></tr><tr><td>GIN</td><td>2021-05-01</td><td>934400.0</td><td>-69000.0</td><td>2021-09-13</td></tr><tr><td>MRT</td><td>2021-05-01</td><td>175700.0</td><td>-27100.0</td><td>2021-09-13</td></tr><tr><td>NER</td><td>2021-05-01</td><td>780000.0</td><td>-200.0</td><td>2021-09-13</td></tr><tr><td>NER</td><td>2021-07-01</td><td>931200.0</td><td>-151200.0</td><td>2021-09-13</td></tr><tr><td>SLV</td><td>2021-05-01</td><td>940400.0</td><td>-793600.0</td><td>2021-09-13</td></tr><tr><td>SYC</td><td>2021-05-01</td><td>140000.0</td><td>-1000.0</td><td>2021-09-13</td></tr></tbody></table></div>"
      ]
     },
     "metadata": {
      "application/vnd.databricks.v1+output": {
       "addedWidgets": {},
       "aggData": [],
       "aggError": "",
       "aggOverflow": false,
       "aggSchema": [],
       "aggSeriesLimitReached": false,
       "aggType": "",
       "arguments": {},
       "columnCustomDisplayInfos": {},
       "data": [
        [
         "CAF",
         "2021-05-01",
         115000,
         -115000,
         "2021-09-13"
        ],
        [
         "DMA",
         "2021-07-01",
         20000,
         -98000,
         "2021-09-13"
        ],
        [
         "GIN",
         "2021-05-01",
         934400,
         -69000,
         "2021-09-13"
        ],
        [
         "MRT",
         "2021-05-01",
         175700,
         -27100,
         "2021-09-13"
        ],
        [
         "NER",
         "2021-05-01",
         780000,
         -200,
         "2021-09-13"
        ],
        [
         "NER",
         "2021-07-01",
         931200,
         -151200,
         "2021-09-13"
        ],
        [
         "SLV",
         "2021-05-01",
         940400,
         -793600,
         "2021-09-13"
        ],
        [
         "SYC",
         "2021-05-01",
         140000,
         -1000,
         "2021-09-13"
        ]
       ],
       "datasetInfos": [],
       "dbfsResultPath": null,
       "isJsonSchema": true,
       "metadata": {},
       "overflow": false,
       "plotOptions": {
        "customPlotOptions": {},
        "displayType": "table",
        "pivotAggregation": null,
        "pivotColumns": null,
        "xColumns": null,
        "yColumns": null
       },
       "removedWidgets": [],
       "schema": [
        {
         "metadata": "{}",
         "name": "iso_code",
         "type": "\"string\""
        },
        {
         "metadata": "{}",
         "name": "date",
         "type": "\"string\""
        },
        {
         "metadata": "{}",
         "name": "cumulative_doses_received_uti",
         "type": "\"double\""
        },
        {
         "metadata": "{}",
         "name": "monthly_doses_recieved_uti",
         "type": "\"double\""
        },
        {
         "metadata": "{}",
         "name": "date_accessed",
         "type": "\"date\""
        }
       ],
       "type": "table"
      }
     },
     "output_type": "display_data"
    }
   ],
   "source": [
    "# define schema for dataframe\n",
    "schema1 = StructType([\n",
    "  StructField(\"iso_code\", StringType()),\n",
    "  StructField(\"country_name\", StringType()),\n",
    "  StructField(\"data_source\", StringType()),\n",
    "  StructField(\"manufacturer\", StringType()),\n",
    "  StructField(\"doses_received\", StringType()),\n",
    "  StructField(\"date\", StringType()),\n",
    "])\n",
    "\n",
    "file_path = '/sites/COVID-19GDPTeam/Shared Documents/Dashboard of Dashboards/04_Analysis/Covax Throughput Analysis/Data Inputs/' + uti_file_name + '.xlsx'\n",
    "local_save_path = '/dbfs/tmp/' + uti_file_name + '.xlsx'\n",
    "# sheet_name = 'v_COV_UTI_LONG'\n",
    "\n",
    "response = File.open_binary(ctx, file_path)\n",
    "with open(local_save_path, \"wb\") as local_file:\n",
    "    local_file.write(response.content)\n",
    "\n",
    "# read in data, convert to df, validate columns, filter out blank rows, convert to spark df\n",
    "wb = load_workbook(local_save_path, data_only=True)\n",
    "ws = wb[sheet_name]\n",
    "df = pd.DataFrame(ws.values)\n",
    "df.columns = df.iloc[0]\n",
    "df = df[1:].astype(str)\n",
    "df = df[['ISO_3_CODE', 'COUNTRYNAME', 'YEAR', 'MONTH', 'DATA_SOURCE', 'MANUFACTURER_DESCRIPTION', 'TOTAL_DOSES_REC']]\n",
    "df = df[df['COUNTRYNAME']!='None']\n",
    "\n",
    "df.columns = ['iso_code', 'country_name', 'year', 'month', 'data_source', 'manufacturer', 'doses_received']\n",
    "\n",
    "# create date column\n",
    "df['day'] = '1'\n",
    "cols = ['year', 'month', 'day']\n",
    "df['date'] = df[cols].apply(lambda x: '-'.join(x.values.astype(str)), axis='columns')\n",
    "df['date'] = pd.to_datetime(df['date']).dt.date\n",
    "df = df.drop(columns=['year', 'month', 'day'])\n",
    "\n",
    "df['date'] = df['date'].astype(str)\n",
    "df_uti = spark.createDataFrame(df, schema=schema1)\n",
    "\n",
    "# logic for aggregating the Utilization data appropriately:\n",
    "# group by (iso_code + data_source + manufacturer + date) and take max doses received\n",
    "# group by (iso_code + data_source + date) and take the sum\n",
    "# group by (iso_code + date) and take the max\n",
    "df_uti = df_uti \\\n",
    " .groupBy('iso_code', 'data_source', 'manufacturer', 'date').agg(max('doses_received')).withColumnRenamed('max(doses_received)', 'doses_received') \\\n",
    " .groupBy('iso_code', 'data_source', 'date').agg(sum('doses_received')).withColumnRenamed('sum(doses_received)', 'doses_received') \\\n",
    " .groupBy('iso_code', 'date').agg(max('doses_received')).withColumnRenamed('max(doses_received)', 'doses_received') \\\n",
    " .withColumn('monthly_doses_recieved_uti', when((col('doses_received') - lag(col('doses_received')).over(Window.partitionBy('iso_code').orderBy('date'))).isNull(), col('doses_received')) \\\n",
    "             .otherwise(col('doses_received') - lag(col('doses_received')).over(Window.partitionBy('iso_code').orderBy('date')))) \\\n",
    " .withColumnRenamed('doses_received', 'cumulative_doses_received_uti')\n",
    "\n",
    "# datestamp dataframe\n",
    "df_uti = df_uti.withColumn(\"date_accessed\", current_date())\n",
    "\n",
    "display(df[df['iso_code']==iso_code])\n",
    "display(df_uti.orderBy('iso_code', 'date').filter(col('iso_code')==iso_code))\n",
    "display(df_uti.filter(col('monthly_doses_recieved_uti')<0))"
   ]
  },
  {
   "cell_type": "markdown",
   "metadata": {
    "application/vnd.databricks.v1+cell": {
     "inputWidgets": {},
     "nuid": "10b466a4-2dd9-44af-a0b1-4a565d9b961d",
     "showTitle": false,
     "title": ""
    }
   },
   "source": [
    "### Save to Azure Storage / Register in Databricks metastore"
   ]
  },
  {
   "cell_type": "code",
   "execution_count": 0,
   "metadata": {
    "application/vnd.databricks.v1+cell": {
     "inputWidgets": {},
     "nuid": "37b10050-8a45-408f-8669-b61eb5d65045",
     "showTitle": false,
     "title": ""
    }
   },
   "outputs": [
    {
     "data": {
      "text/html": [
       "<style scoped>\n",
       "  .ansiout {\n",
       "    display: block;\n",
       "    unicode-bidi: embed;\n",
       "    white-space: pre-wrap;\n",
       "    word-wrap: break-word;\n",
       "    word-break: break-all;\n",
       "    font-family: \"Source Code Pro\", \"Menlo\", monospace;;\n",
       "    font-size: 13px;\n",
       "    color: #555;\n",
       "    margin-left: 4px;\n",
       "    line-height: 19px;\n",
       "  }\n",
       "</style>\n",
       "<div class=\"ansiout\"></div>"
      ]
     },
     "metadata": {
      "application/vnd.databricks.v1+output": {
       "addedWidgets": {},
       "arguments": {},
       "data": "<div class=\"ansiout\"></div>",
       "datasetInfos": [],
       "metadata": {},
       "removedWidgets": [],
       "type": "html"
      }
     },
     "output_type": "display_data"
    }
   ],
   "source": [
    "delta_path = transformed_storage_path + '.delta'\n",
    "\n",
    "# dbutils.fs.rm(delta_path, True)\n",
    "\n",
    "df_uti.write.format(\"delta\").mode(\"overwrite\").save(delta_path)"
   ]
  },
  {
   "cell_type": "code",
   "execution_count": 0,
   "metadata": {
    "application/vnd.databricks.v1+cell": {
     "inputWidgets": {},
     "nuid": "2da8e059-b10f-4e7b-92eb-b0a46e05a661",
     "showTitle": false,
     "title": ""
    }
   },
   "outputs": [
    {
     "data": {
      "text/html": [
       "<style scoped>\n",
       "  .ansiout {\n",
       "    display: block;\n",
       "    unicode-bidi: embed;\n",
       "    white-space: pre-wrap;\n",
       "    word-wrap: break-word;\n",
       "    word-break: break-all;\n",
       "    font-family: \"Source Code Pro\", \"Menlo\", monospace;;\n",
       "    font-size: 13px;\n",
       "    color: #555;\n",
       "    margin-left: 4px;\n",
       "    line-height: 19px;\n",
       "  }\n",
       "</style>\n",
       "<div class=\"ansiout\">/mnt/covax-supply-chain-analytics/transformed/who/analysis_vx_throughput_supply.delta\n",
       "</div>"
      ]
     },
     "metadata": {
      "application/vnd.databricks.v1+output": {
       "addedWidgets": {},
       "arguments": {},
       "data": "<div class=\"ansiout\">/mnt/covax-supply-chain-analytics/transformed/who/analysis_vx_throughput_supply.delta\n</div>",
       "datasetInfos": [],
       "metadata": {},
       "removedWidgets": [],
       "type": "html"
      }
     },
     "output_type": "display_data"
    }
   ],
   "source": [
    "# path for delta\n",
    "print(transformed_storage_path + '.delta')"
   ]
  },
  {
   "cell_type": "code",
   "execution_count": 0,
   "metadata": {
    "application/vnd.databricks.v1+cell": {
     "inputWidgets": {},
     "nuid": "164cbbdd-e0f9-4dfd-9b9b-01f4ddc24e10",
     "showTitle": false,
     "title": ""
    }
   },
   "outputs": [
    {
     "data": {
      "text/html": [
       "<style scoped>\n",
       "  .table-result-container {\n",
       "    max-height: 300px;\n",
       "    overflow: auto;\n",
       "  }\n",
       "  table, th, td {\n",
       "    border: 1px solid black;\n",
       "    border-collapse: collapse;\n",
       "  }\n",
       "  th, td {\n",
       "    padding: 5px;\n",
       "  }\n",
       "  th {\n",
       "    text-align: left;\n",
       "  }\n",
       "</style><div class='table-result-container'><table class='table-result'><thead style='background-color: white'><tr></tr></thead><tbody></tbody></table></div>"
      ]
     },
     "metadata": {
      "application/vnd.databricks.v1+output": {
       "addedWidgets": {},
       "aggData": [],
       "aggError": "",
       "aggOverflow": false,
       "aggSchema": [],
       "aggSeriesLimitReached": false,
       "aggType": "",
       "arguments": {},
       "columnCustomDisplayInfos": {},
       "data": [],
       "datasetInfos": [],
       "dbfsResultPath": null,
       "isJsonSchema": true,
       "metadata": {},
       "overflow": false,
       "plotOptions": {
        "customPlotOptions": {},
        "displayType": "table",
        "pivotAggregation": null,
        "pivotColumns": null,
        "xColumns": null,
        "yColumns": null
       },
       "removedWidgets": [],
       "schema": [],
       "type": "table"
      }
     },
     "output_type": "display_data"
    }
   ],
   "source": [
    "%sql\n",
    "\n",
    "DROP TABLE IF EXISTS covax_supply_chain_analytics.analysis_vx_throughput_supply;\n",
    "\n",
    "CREATE TABLE covax_supply_chain_analytics.analysis_vx_throughput_supply\n",
    "USING DELTA\n",
    "LOCATION '/mnt/covax-supply-chain-analytics/transformed/who/analysis_vx_throughput_supply.delta'"
   ]
  },
  {
   "cell_type": "code",
   "execution_count": 0,
   "metadata": {
    "application/vnd.databricks.v1+cell": {
     "inputWidgets": {},
     "nuid": "75eef888-ec65-48d8-a7c3-6ab73751984a",
     "showTitle": false,
     "title": ""
    }
   },
   "outputs": [
    {
     "data": {
      "text/html": [
       "<style scoped>\n",
       "  .table-result-container {\n",
       "    max-height: 300px;\n",
       "    overflow: auto;\n",
       "  }\n",
       "  table, th, td {\n",
       "    border: 1px solid black;\n",
       "    border-collapse: collapse;\n",
       "  }\n",
       "  th, td {\n",
       "    padding: 5px;\n",
       "  }\n",
       "  th {\n",
       "    text-align: left;\n",
       "  }\n",
       "</style><div class='table-result-container'><table class='table-result'><thead style='background-color: white'><tr><th>iso_code</th><th>date</th><th>cumulative_doses_received_uti</th><th>monthly_doses_recieved_uti</th><th>date_accessed</th></tr></thead><tbody><tr><td>AFG</td><td>2021-03-01</td><td>968000.0</td><td>968000.0</td><td>2021-09-13</td></tr><tr><td>AGO</td><td>2021-04-01</td><td>1359000.0</td><td>1359000.0</td><td>2021-09-13</td></tr><tr><td>AGO</td><td>2021-05-01</td><td>1509620.0</td><td>150620.0</td><td>2021-09-13</td></tr><tr><td>AGO</td><td>2021-06-01</td><td>1610930.0</td><td>101310.0</td><td>2021-09-13</td></tr><tr><td>AGO</td><td>2021-07-01</td><td>1835695.0</td><td>224765.0</td><td>2021-09-13</td></tr><tr><td>BEN</td><td>2021-04-01</td><td>347000.0</td><td>347000.0</td><td>2021-09-13</td></tr><tr><td>BEN</td><td>2021-05-01</td><td>347000.0</td><td>0.0</td><td>2021-09-13</td></tr><tr><td>BEN</td><td>2021-06-01</td><td>347000.0</td><td>0.0</td><td>2021-09-13</td></tr><tr><td>BEN</td><td>2021-07-01</td><td>649400.0</td><td>302400.0</td><td>2021-09-13</td></tr><tr><td>BFA</td><td>2021-05-01</td><td>115000.0</td><td>115000.0</td><td>2021-09-13</td></tr><tr><td>BFA</td><td>2021-06-01</td><td>115200.0</td><td>200.0</td><td>2021-09-13</td></tr><tr><td>BFA</td><td>2021-07-01</td><td>417600.0</td><td>302400.0</td><td>2021-09-13</td></tr><tr><td>BWA</td><td>2021-04-01</td><td>64000.0</td><td>64000.0</td><td>2021-09-13</td></tr><tr><td>BWA</td><td>2021-05-01</td><td>262400.0</td><td>198400.0</td><td>2021-09-13</td></tr><tr><td>BWA</td><td>2021-06-01</td><td>262400.0</td><td>0.0</td><td>2021-09-13</td></tr><tr><td>BWA</td><td>2021-07-01</td><td>512290.0</td><td>249890.0</td><td>2021-09-13</td></tr><tr><td>CAF</td><td>2021-04-01</td><td>230000.0</td><td>230000.0</td><td>2021-09-13</td></tr><tr><td>CAF</td><td>2021-05-01</td><td>115000.0</td><td>-115000.0</td><td>2021-09-13</td></tr><tr><td>CAF</td><td>2021-06-01</td><td>115000.0</td><td>0.0</td><td>2021-09-13</td></tr><tr><td>CAF</td><td>2021-07-01</td><td>567400.0</td><td>452400.0</td><td>2021-09-13</td></tr><tr><td>CIV</td><td>2021-03-01</td><td>554000.0</td><td>554000.0</td><td>2021-09-13</td></tr><tr><td>CIV</td><td>2021-04-01</td><td>554000.0</td><td>0.0</td><td>2021-09-13</td></tr><tr><td>CIV</td><td>2021-05-01</td><td>779000.0</td><td>225000.0</td><td>2021-09-13</td></tr><tr><td>CIV</td><td>2021-06-01</td><td>827130.0</td><td>48130.0</td><td>2021-09-13</td></tr><tr><td>CIV</td><td>2021-07-01</td><td>1296570.0</td><td>469440.0</td><td>2021-09-13</td></tr><tr><td>CMR</td><td>2021-04-01</td><td>591200.0</td><td>591200.0</td><td>2021-09-13</td></tr><tr><td>CMR</td><td>2021-05-01</td><td>591200.0</td><td>0.0</td><td>2021-09-13</td></tr><tr><td>CMR</td><td>2021-06-01</td><td>591200.0</td><td>0.0</td><td>2021-09-13</td></tr><tr><td>CMR</td><td>2021-07-01</td><td>894250.0</td><td>303050.0</td><td>2021-09-13</td></tr><tr><td>COD</td><td>2021-04-01</td><td>451000.0</td><td>451000.0</td><td>2021-09-13</td></tr><tr><td>COD</td><td>2021-05-01</td><td>451000.0</td><td>0.0</td><td>2021-09-13</td></tr><tr><td>COD</td><td>2021-06-01</td><td>451000.0</td><td>0.0</td><td>2021-09-13</td></tr><tr><td>COD</td><td>2021-07-01</td><td>451000.0</td><td>0.0</td><td>2021-09-13</td></tr><tr><td>COG</td><td>2021-04-01</td><td>151220.0</td><td>151220.0</td><td>2021-09-13</td></tr><tr><td>COG</td><td>2021-05-01</td><td>156220.0</td><td>5000.0</td><td>2021-09-13</td></tr><tr><td>COG</td><td>2021-06-01</td><td>508200.0</td><td>351980.0</td><td>2021-09-13</td></tr><tr><td>COG</td><td>2021-07-01</td><td>508200.0</td><td>0.0</td><td>2021-09-13</td></tr><tr><td>COM</td><td>2021-04-01</td><td>112000.0</td><td>112000.0</td><td>2021-09-13</td></tr><tr><td>COM</td><td>2021-05-01</td><td>118000.0</td><td>6000.0</td><td>2021-09-13</td></tr><tr><td>COM</td><td>2021-06-01</td><td>118000.0</td><td>0.0</td><td>2021-09-13</td></tr><tr><td>COM</td><td>2021-07-01</td><td>418000.0</td><td>300000.0</td><td>2021-09-13</td></tr><tr><td>CPV</td><td>2021-04-01</td><td>29850.0</td><td>29850.0</td><td>2021-09-13</td></tr><tr><td>CPV</td><td>2021-05-01</td><td>29850.0</td><td>0.0</td><td>2021-09-13</td></tr><tr><td>CPV</td><td>2021-06-01</td><td>235050.0</td><td>205200.0</td><td>2021-09-13</td></tr><tr><td>CPV</td><td>2021-07-01</td><td>409050.0</td><td>174000.0</td><td>2021-09-13</td></tr><tr><td>DMA</td><td>2021-03-01</td><td>98000.0</td><td>98000.0</td><td>2021-09-13</td></tr><tr><td>DMA</td><td>2021-05-01</td><td>118000.0</td><td>20000.0</td><td>2021-09-13</td></tr><tr><td>DMA</td><td>2021-07-01</td><td>20000.0</td><td>-98000.0</td><td>2021-09-13</td></tr><tr><td>DZA</td><td>2021-04-01</td><td>844500.0</td><td>844500.0</td><td>2021-09-13</td></tr><tr><td>DZA</td><td>2021-05-01</td><td>2273200.0</td><td>1428700.0</td><td>2021-09-13</td></tr><tr><td>DZA</td><td>2021-06-01</td><td>3723200.0</td><td>1450000.0</td><td>2021-09-13</td></tr><tr><td>DZA</td><td>2021-07-01</td><td>3723200.0</td><td>0.0</td><td>2021-09-13</td></tr><tr><td>ETH</td><td>2021-03-01</td><td>2200000.0</td><td>2200000.0</td><td>2021-09-13</td></tr><tr><td>ETH</td><td>2021-04-01</td><td>2500000.0</td><td>300000.0</td><td>2021-09-13</td></tr><tr><td>ETH</td><td>2021-05-01</td><td>2500000.0</td><td>0.0</td><td>2021-09-13</td></tr><tr><td>ETH</td><td>2021-06-01</td><td>2500000.0</td><td>0.0</td><td>2021-09-13</td></tr><tr><td>ETH</td><td>2021-07-01</td><td>2891200.0</td><td>391200.0</td><td>2021-09-13</td></tr><tr><td>GAB</td><td>2021-04-01</td><td>100000.0</td><td>100000.0</td><td>2021-09-13</td></tr><tr><td>GAB</td><td>2021-05-01</td><td>400000.0</td><td>300000.0</td><td>2021-09-13</td></tr><tr><td>GAB</td><td>2021-06-01</td><td>400000.0</td><td>0.0</td><td>2021-09-13</td></tr><tr><td>GAB</td><td>2021-07-01</td><td>410000.0</td><td>10000.0</td><td>2021-09-13</td></tr><tr><td>GHA</td><td>2021-04-01</td><td>1332850.0</td><td>1332850.0</td><td>2021-09-13</td></tr><tr><td>GHA</td><td>2021-05-01</td><td>1332850.0</td><td>0.0</td><td>2021-09-13</td></tr><tr><td>GHA</td><td>2021-06-01</td><td>1337850.0</td><td>5000.0</td><td>2021-09-13</td></tr><tr><td>GHA</td><td>2021-07-01</td><td>1337850.0</td><td>0.0</td><td>2021-09-13</td></tr><tr><td>GIN</td><td>2021-03-01</td><td>703400.0</td><td>703400.0</td><td>2021-09-13</td></tr><tr><td>GIN</td><td>2021-04-01</td><td>1003400.0</td><td>300000.0</td><td>2021-09-13</td></tr><tr><td>GIN</td><td>2021-05-01</td><td>934400.0</td><td>-69000.0</td><td>2021-09-13</td></tr><tr><td>GIN</td><td>2021-06-01</td><td>1003400.0</td><td>69000.0</td><td>2021-09-13</td></tr><tr><td>GIN</td><td>2021-07-01</td><td>1153400.0</td><td>150000.0</td><td>2021-09-13</td></tr><tr><td>GMB</td><td>2021-04-01</td><td>51000.0</td><td>51000.0</td><td>2021-09-13</td></tr><tr><td>GMB</td><td>2021-05-01</td><td>51000.0</td><td>0.0</td><td>2021-09-13</td></tr><tr><td>GMB</td><td>2021-06-01</td><td>51000.0</td><td>0.0</td><td>2021-09-13</td></tr><tr><td>GMB</td><td>2021-07-01</td><td>202200.0</td><td>151200.0</td><td>2021-09-13</td></tr><tr><td>GNB</td><td>2021-04-01</td><td>28800.0</td><td>28800.0</td><td>2021-09-13</td></tr><tr><td>GNB</td><td>2021-05-01</td><td>28800.0</td><td>0.0</td><td>2021-09-13</td></tr><tr><td>GNB</td><td>2021-06-01</td><td>50800.0</td><td>22000.0</td><td>2021-09-13</td></tr><tr><td>GNB</td><td>2021-07-01</td><td>74800.0</td><td>24000.0</td><td>2021-09-13</td></tr><tr><td>GNQ</td><td>2021-04-01</td><td>300000.0</td><td>300000.0</td><td>2021-09-13</td></tr><tr><td>GNQ</td><td>2021-05-01</td><td>300000.0</td><td>0.0</td><td>2021-09-13</td></tr><tr><td>GNQ</td><td>2021-06-01</td><td>820000.0</td><td>520000.0</td><td>2021-09-13</td></tr><tr><td>GNQ</td><td>2021-07-01</td><td>820000.0</td><td>0.0</td><td>2021-09-13</td></tr><tr><td>GRD</td><td>2021-06-01</td><td>45600.0</td><td>45600.0</td><td>2021-09-13</td></tr><tr><td>HND</td><td>2021-03-01</td><td>53000.0</td><td>53000.0</td><td>2021-09-13</td></tr><tr><td>KEN</td><td>2021-04-01</td><td>1120000.0</td><td>1120000.0</td><td>2021-09-13</td></tr><tr><td>KEN</td><td>2021-05-01</td><td>1120000.0</td><td>0.0</td><td>2021-09-13</td></tr><tr><td>KEN</td><td>2021-06-01</td><td>1478000.0</td><td>358000.0</td><td>2021-09-13</td></tr><tr><td>KEN</td><td>2021-07-01</td><td>2143100.0</td><td>665100.0</td><td>2021-09-13</td></tr><tr><td>KGZ</td><td>2021-04-01</td><td>170000.0</td><td>170000.0</td><td>2021-09-13</td></tr><tr><td>KGZ</td><td>2021-06-01</td><td>null</td><td>null</td><td>2021-09-13</td></tr><tr><td>KGZ</td><td>2021-07-01</td><td>null</td><td>null</td><td>2021-09-13</td></tr><tr><td>KHM</td><td>2021-03-01</td><td>4024000.0</td><td>4024000.0</td><td>2021-09-13</td></tr><tr><td>KHM</td><td>2021-04-01</td><td>6024000.0</td><td>2000000.0</td><td>2021-09-13</td></tr><tr><td>KHM</td><td>2021-05-01</td><td>9024000.0</td><td>3000000.0</td><td>2021-09-13</td></tr><tr><td>LAO</td><td>2021-03-01</td><td>1542800.0</td><td>1542800.0</td><td>2021-09-13</td></tr><tr><td>LAO</td><td>2021-04-01</td><td>1542800.0</td><td>0.0</td><td>2021-09-13</td></tr><tr><td>LBR</td><td>2021-04-01</td><td>123000.0</td><td>123000.0</td><td>2021-09-13</td></tr><tr><td>LBR</td><td>2021-05-01</td><td>123000.0</td><td>0.0</td><td>2021-09-13</td></tr><tr><td>LBR</td><td>2021-06-01</td><td>123000.0</td><td>0.0</td><td>2021-09-13</td></tr><tr><td>LBR</td><td>2021-07-01</td><td>123000.0</td><td>0.0</td><td>2021-09-13</td></tr><tr><td>LCA</td><td>2021-03-01</td><td>75000.0</td><td>75000.0</td><td>2021-09-13</td></tr><tr><td>LSO</td><td>2021-04-01</td><td>36000.0</td><td>36000.0</td><td>2021-09-13</td></tr><tr><td>LSO</td><td>2021-05-01</td><td>36000.0</td><td>0.0</td><td>2021-09-13</td></tr><tr><td>LSO</td><td>2021-06-01</td><td>72000.0</td><td>36000.0</td><td>2021-09-13</td></tr><tr><td>LSO</td><td>2021-07-01</td><td>374400.0</td><td>302400.0</td><td>2021-09-13</td></tr><tr><td>MDG</td><td>2021-04-01</td><td>250000.0</td><td>250000.0</td><td>2021-09-13</td></tr><tr><td>MDG</td><td>2021-05-01</td><td>250000.0</td><td>0.0</td><td>2021-09-13</td></tr><tr><td>MDG</td><td>2021-06-01</td><td>250000.0</td><td>0.0</td><td>2021-09-13</td></tr><tr><td>MDG</td><td>2021-07-01</td><td>552750.0</td><td>302750.0</td><td>2021-09-13</td></tr><tr><td>MLI</td><td>2021-04-01</td><td>396000.0</td><td>396000.0</td><td>2021-09-13</td></tr><tr><td>MLI</td><td>2021-05-01</td><td>396000.0</td><td>0.0</td><td>2021-09-13</td></tr><tr><td>MLI</td><td>2021-06-01</td><td>396000.0</td><td>0.0</td><td>2021-09-13</td></tr><tr><td>MLI</td><td>2021-07-01</td><td>396000.0</td><td>0.0</td><td>2021-09-13</td></tr><tr><td>MNG</td><td>2021-03-01</td><td>1440540.0</td><td>1440540.0</td><td>2021-09-13</td></tr><tr><td>MOZ</td><td>2021-03-01</td><td>684000.0</td><td>684000.0</td><td>2021-09-13</td></tr><tr><td>MOZ</td><td>2021-04-01</td><td>684000.0</td><td>0.0</td><td>2021-09-13</td></tr><tr><td>MOZ</td><td>2021-05-01</td><td>684000.0</td><td>0.0</td><td>2021-09-13</td></tr><tr><td>MOZ</td><td>2021-06-01</td><td>1720400.0</td><td>1036400.0</td><td>2021-09-13</td></tr><tr><td>MOZ</td><td>2021-07-01</td><td>2046400.0</td><td>326000.0</td><td>2021-09-13</td></tr><tr><td>MRT</td><td>2021-04-01</td><td>202800.0</td><td>202800.0</td><td>2021-09-13</td></tr><tr><td>MRT</td><td>2021-05-01</td><td>175700.0</td><td>-27100.0</td><td>2021-09-13</td></tr><tr><td>MRT</td><td>2021-06-01</td><td>530700.0</td><td>355000.0</td><td>2021-09-13</td></tr><tr><td>MRT</td><td>2021-07-01</td><td>530700.0</td><td>0.0</td><td>2021-09-13</td></tr><tr><td>MUS</td><td>2021-04-01</td><td>562800.0</td><td>562800.0</td><td>2021-09-13</td></tr><tr><td>MUS</td><td>2021-05-01</td><td>962800.0</td><td>400000.0</td><td>2021-09-13</td></tr><tr><td>MUS</td><td>2021-06-01</td><td>1062400.0</td><td>99600.0</td><td>2021-09-13</td></tr><tr><td>MUS</td><td>2021-07-01</td><td>1622400.0</td><td>560000.0</td><td>2021-09-13</td></tr><tr><td>MWI</td><td>2021-04-01</td><td>512000.0</td><td>512000.0</td><td>2021-09-13</td></tr><tr><td>MWI</td><td>2021-05-01</td><td>512000.0</td><td>0.0</td><td>2021-09-13</td></tr><tr><td>MWI</td><td>2021-06-01</td><td>512000.0</td><td>0.0</td><td>2021-09-13</td></tr><tr><td>MWI</td><td>2021-07-01</td><td>704000.0</td><td>192000.0</td><td>2021-09-13</td></tr><tr><td>NAM</td><td>2021-04-01</td><td>154000.0</td><td>154000.0</td><td>2021-09-13</td></tr><tr><td>NAM</td><td>2021-05-01</td><td>197200.0</td><td>43200.0</td><td>2021-09-13</td></tr><tr><td>NAM</td><td>2021-06-01</td><td>197200.0</td><td>0.0</td><td>2021-09-13</td></tr><tr><td>NAM</td><td>2021-07-01</td><td>447200.0</td><td>250000.0</td><td>2021-09-13</td></tr><tr><td>NER</td><td>2021-03-01</td><td>780200.0</td><td>780200.0</td><td>2021-09-13</td></tr><tr><td>NER</td><td>2021-04-01</td><td>780200.0</td><td>0.0</td><td>2021-09-13</td></tr><tr><td>NER</td><td>2021-05-01</td><td>780000.0</td><td>-200.0</td><td>2021-09-13</td></tr><tr><td>NER</td><td>2021-06-01</td><td>1082400.0</td><td>302400.0</td><td>2021-09-13</td></tr><tr><td>NER</td><td>2021-07-01</td><td>931200.0</td><td>-151200.0</td><td>2021-09-13</td></tr><tr><td>NGA</td><td>2021-04-01</td><td>3925500.0</td><td>3925500.0</td><td>2021-09-13</td></tr><tr><td>NGA</td><td>2021-05-01</td><td>3925500.0</td><td>0.0</td><td>2021-09-13</td></tr><tr><td>NGA</td><td>2021-06-01</td><td>4024000.0</td><td>98500.0</td><td>2021-09-13</td></tr><tr><td>NGA</td><td>2021-07-01</td><td>8024080.0</td><td>4000080.0</td><td>2021-09-13</td></tr><tr><td>NIC</td><td>2021-06-01</td><td>645000.0</td><td>645000.0</td><td>2021-09-13</td></tr><tr><td>PAK</td><td>2021-04-01</td><td>5260000.0</td><td>5260000.0</td><td>2021-09-13</td></tr><tr><td>PAK</td><td>2021-05-01</td><td>1.2263E7</td><td>7003000.0</td><td>2021-09-13</td></tr><tr><td>PAK</td><td>2021-06-01</td><td>1.7441841E7</td><td>5178841.0</td><td>2021-09-13</td></tr><tr><td>PHL</td><td>2021-03-01</td><td>4025600.0</td><td>4025600.0</td><td>2021-09-13</td></tr><tr><td>PHL</td><td>2021-04-01</td><td>8329050.0</td><td>4303450.0</td><td>2021-09-13</td></tr><tr><td>PHL</td><td>2021-05-01</td><td>1.420587E7</td><td>5876820.0</td><td>2021-09-13</td></tr><tr><td>PHL</td><td>2021-06-01</td><td>1.745781E7</td><td>3251940.0</td><td>2021-09-13</td></tr><tr><td>PNG</td><td>2021-03-01</td><td>141000.0</td><td>141000.0</td><td>2021-09-13</td></tr><tr><td>PNG</td><td>2021-04-01</td><td>141000.0</td><td>0.0</td><td>2021-09-13</td></tr><tr><td>PNG</td><td>2021-05-01</td><td>151000.0</td><td>10000.0</td><td>2021-09-13</td></tr><tr><td>PNG</td><td>2021-06-01</td><td>497400.0</td><td>346400.0</td><td>2021-09-13</td></tr><tr><td>PNG</td><td>2021-07-01</td><td>807800.0</td><td>310400.0</td><td>2021-09-13</td></tr><tr><td>RWA</td><td>2021-04-01</td><td>392960.0</td><td>392960.0</td><td>2021-09-13</td></tr><tr><td>RWA</td><td>2021-05-01</td><td>392960.0</td><td>0.0</td><td>2021-09-13</td></tr><tr><td>RWA</td><td>2021-06-01</td><td>495920.0</td><td>102960.0</td><td>2021-09-13</td></tr><tr><td>RWA</td><td>2021-07-01</td><td>879300.0</td><td>383380.0</td><td>2021-09-13</td></tr><tr><td>SEN</td><td>2021-04-01</td><td>639000.0</td><td>639000.0</td><td>2021-09-13</td></tr><tr><td>SEN</td><td>2021-05-01</td><td>1123800.0</td><td>484800.0</td><td>2021-09-13</td></tr><tr><td>SEN</td><td>2021-06-01</td><td>1123800.0</td><td>0.0</td><td>2021-09-13</td></tr><tr><td>SEN</td><td>2021-07-01</td><td>1758318.0</td><td>634518.0</td><td>2021-09-13</td></tr><tr><td>SLE</td><td>2021-04-01</td><td>378000.0</td><td>378000.0</td><td>2021-09-13</td></tr><tr><td>SLE</td><td>2021-05-01</td><td>378000.0</td><td>0.0</td><td>2021-09-13</td></tr><tr><td>SLE</td><td>2021-07-01</td><td>516000.0</td><td>138000.0</td><td>2021-09-13</td></tr><tr><td>SLV</td><td>2021-03-01</td><td>1734000.0</td><td>1734000.0</td><td>2021-09-13</td></tr><tr><td>SLV</td><td>2021-04-01</td><td>1734000.0</td><td>0.0</td><td>2021-09-13</td></tr><tr><td>SLV</td><td>2021-05-01</td><td>940400.0</td><td>-793600.0</td><td>2021-09-13</td></tr><tr><td>SLV</td><td>2021-06-01</td><td>1121870.0</td><td>181470.0</td><td>2021-09-13</td></tr><tr><td>SLV</td><td>2021-07-01</td><td>4122070.0</td><td>3000200.0</td><td>2021-09-13</td></tr><tr><td>SOM</td><td>2021-04-01</td><td>200000.0</td><td>200000.0</td><td>2021-09-13</td></tr><tr><td>SSD</td><td>2021-04-01</td><td>191000.0</td><td>191000.0</td><td>2021-09-13</td></tr><tr><td>SSD</td><td>2021-07-01</td><td>192000.0</td><td>1000.0</td><td>2021-09-13</td></tr><tr><td>STP</td><td>2021-04-01</td><td>24000.0</td><td>24000.0</td><td>2021-09-13</td></tr><tr><td>STP</td><td>2021-05-01</td><td>24000.0</td><td>0.0</td><td>2021-09-13</td></tr><tr><td>STP</td><td>2021-06-01</td><td>48500.0</td><td>24500.0</td><td>2021-09-13</td></tr><tr><td>STP</td><td>2021-07-01</td><td>60500.0</td><td>12000.0</td><td>2021-09-13</td></tr><tr><td>SWZ</td><td>2021-03-01</td><td>32000.0</td><td>32000.0</td><td>2021-09-13</td></tr><tr><td>SWZ</td><td>2021-04-01</td><td>32000.0</td><td>0.0</td><td>2021-09-13</td></tr><tr><td>SWZ</td><td>2021-05-01</td><td>32000.0</td><td>0.0</td><td>2021-09-13</td></tr><tr><td>SWZ</td><td>2021-06-01</td><td>32000.0</td><td>0.0</td><td>2021-09-13</td></tr><tr><td>SWZ</td><td>2021-07-01</td><td>340400.0</td><td>308400.0</td><td>2021-09-13</td></tr><tr><td>SYC</td><td>2021-04-01</td><td>141000.0</td><td>141000.0</td><td>2021-09-13</td></tr><tr><td>SYC</td><td>2021-05-01</td><td>140000.0</td><td>-1000.0</td><td>2021-09-13</td></tr><tr><td>SYC</td><td>2021-06-01</td><td>140000.0</td><td>0.0</td><td>2021-09-13</td></tr><tr><td>SYC</td><td>2021-07-01</td><td>141000.0</td><td>1000.0</td><td>2021-09-13</td></tr><tr><td>SYR</td><td>2021-06-01</td><td>2030000.0</td><td>2030000.0</td><td>2021-09-13</td></tr><tr><td>TCD</td><td>2021-05-01</td><td>200000.0</td><td>200000.0</td><td>2021-09-13</td></tr><tr><td>TCD</td><td>2021-06-01</td><td>300620.0</td><td>100620.0</td><td>2021-09-13</td></tr><tr><td>TCD</td><td>2021-07-01</td><td>300620.0</td><td>0.0</td><td>2021-09-13</td></tr><tr><td>TGO</td><td>2021-04-01</td><td>476000.0</td><td>476000.0</td><td>2021-09-13</td></tr><tr><td>TGO</td><td>2021-05-01</td><td>476000.0</td><td>0.0</td><td>2021-09-13</td></tr><tr><td>TGO</td><td>2021-06-01</td><td>716620.0</td><td>240620.0</td><td>2021-09-13</td></tr><tr><td>TGO</td><td>2021-07-01</td><td>716620.0</td><td>0.0</td><td>2021-09-13</td></tr><tr><td>TJK</td><td>2021-03-01</td><td>192000.0</td><td>192000.0</td><td>2021-09-13</td></tr><tr><td>TUN</td><td>2021-05-01</td><td>586000.0</td><td>586000.0</td><td>2021-09-13</td></tr><tr><td>TZA</td><td>2021-07-01</td><td>1000000.0</td><td>1000000.0</td><td>2021-09-13</td></tr><tr><td>UGA</td><td>2021-04-01</td><td>964000.0</td><td>964000.0</td><td>2021-09-13</td></tr><tr><td>UGA</td><td>2021-05-01</td><td>964000.0</td><td>0.0</td><td>2021-09-13</td></tr><tr><td>UGA</td><td>2021-06-01</td><td>964000.0</td><td>0.0</td><td>2021-09-13</td></tr><tr><td>UGA</td><td>2021-07-01</td><td>964000.0</td><td>0.0</td><td>2021-09-13</td></tr><tr><td>UKR</td><td>2021-03-01</td><td>817000.0</td><td>817000.0</td><td>2021-09-13</td></tr><tr><td>UKR</td><td>2021-04-01</td><td>1184200.0</td><td>367200.0</td><td>2021-09-13</td></tr><tr><td>UKR</td><td>2021-06-01</td><td>5055916.0</td><td>3871716.0</td><td>2021-09-13</td></tr><tr><td>UKR</td><td>2021-07-01</td><td>1.2492956E7</td><td>7437040.0</td><td>2021-09-13</td></tr><tr><td>VCT</td><td>2021-03-01</td><td>35000.0</td><td>35000.0</td><td>2021-09-13</td></tr><tr><td>WSM</td><td>2021-03-01</td><td>24000.0</td><td>24000.0</td><td>2021-09-13</td></tr><tr><td>YEM</td><td>2021-03-01</td><td>360000.0</td><td>360000.0</td><td>2021-09-13</td></tr><tr><td>ZAF</td><td>2021-04-01</td><td>500000.0</td><td>500000.0</td><td>2021-09-13</td></tr><tr><td>ZAF</td><td>2021-05-01</td><td>500000.0</td><td>0.0</td><td>2021-09-13</td></tr><tr><td>ZAF</td><td>2021-06-01</td><td>5674000.0</td><td>5174000.0</td><td>2021-09-13</td></tr><tr><td>ZAF</td><td>2021-07-01</td><td>8674000.0</td><td>3000000.0</td><td>2021-09-13</td></tr><tr><td>ZMB</td><td>2021-04-01</td><td>228000.0</td><td>228000.0</td><td>2021-09-13</td></tr><tr><td>ZMB</td><td>2021-05-01</td><td>228000.0</td><td>0.0</td><td>2021-09-13</td></tr><tr><td>ZMB</td><td>2021-06-01</td><td>228000.0</td><td>0.0</td><td>2021-09-13</td></tr><tr><td>ZMB</td><td>2021-07-01</td><td>228000.0</td><td>0.0</td><td>2021-09-13</td></tr><tr><td>ZWE</td><td>2021-04-01</td><td>675000.0</td><td>675000.0</td><td>2021-09-13</td></tr><tr><td>ZWE</td><td>2021-05-01</td><td>1487000.0</td><td>812000.0</td><td>2021-09-13</td></tr><tr><td>ZWE</td><td>2021-06-01</td><td>1987000.0</td><td>500000.0</td><td>2021-09-13</td></tr><tr><td>ZWE</td><td>2021-07-01</td><td>6487000.0</td><td>4500000.0</td><td>2021-09-13</td></tr></tbody></table></div>"
      ]
     },
     "metadata": {
      "application/vnd.databricks.v1+output": {
       "addedWidgets": {},
       "aggData": [],
       "aggError": "",
       "aggOverflow": false,
       "aggSchema": [],
       "aggSeriesLimitReached": false,
       "aggType": "",
       "arguments": {},
       "columnCustomDisplayInfos": {},
       "data": [
        [
         "AFG",
         "2021-03-01",
         968000,
         968000,
         "2021-09-13"
        ],
        [
         "AGO",
         "2021-04-01",
         1359000,
         1359000,
         "2021-09-13"
        ],
        [
         "AGO",
         "2021-05-01",
         1509620,
         150620,
         "2021-09-13"
        ],
        [
         "AGO",
         "2021-06-01",
         1610930,
         101310,
         "2021-09-13"
        ],
        [
         "AGO",
         "2021-07-01",
         1835695,
         224765,
         "2021-09-13"
        ],
        [
         "BEN",
         "2021-04-01",
         347000,
         347000,
         "2021-09-13"
        ],
        [
         "BEN",
         "2021-05-01",
         347000,
         0,
         "2021-09-13"
        ],
        [
         "BEN",
         "2021-06-01",
         347000,
         0,
         "2021-09-13"
        ],
        [
         "BEN",
         "2021-07-01",
         649400,
         302400,
         "2021-09-13"
        ],
        [
         "BFA",
         "2021-05-01",
         115000,
         115000,
         "2021-09-13"
        ],
        [
         "BFA",
         "2021-06-01",
         115200,
         200,
         "2021-09-13"
        ],
        [
         "BFA",
         "2021-07-01",
         417600,
         302400,
         "2021-09-13"
        ],
        [
         "BWA",
         "2021-04-01",
         64000,
         64000,
         "2021-09-13"
        ],
        [
         "BWA",
         "2021-05-01",
         262400,
         198400,
         "2021-09-13"
        ],
        [
         "BWA",
         "2021-06-01",
         262400,
         0,
         "2021-09-13"
        ],
        [
         "BWA",
         "2021-07-01",
         512290,
         249890,
         "2021-09-13"
        ],
        [
         "CAF",
         "2021-04-01",
         230000,
         230000,
         "2021-09-13"
        ],
        [
         "CAF",
         "2021-05-01",
         115000,
         -115000,
         "2021-09-13"
        ],
        [
         "CAF",
         "2021-06-01",
         115000,
         0,
         "2021-09-13"
        ],
        [
         "CAF",
         "2021-07-01",
         567400,
         452400,
         "2021-09-13"
        ],
        [
         "CIV",
         "2021-03-01",
         554000,
         554000,
         "2021-09-13"
        ],
        [
         "CIV",
         "2021-04-01",
         554000,
         0,
         "2021-09-13"
        ],
        [
         "CIV",
         "2021-05-01",
         779000,
         225000,
         "2021-09-13"
        ],
        [
         "CIV",
         "2021-06-01",
         827130,
         48130,
         "2021-09-13"
        ],
        [
         "CIV",
         "2021-07-01",
         1296570,
         469440,
         "2021-09-13"
        ],
        [
         "CMR",
         "2021-04-01",
         591200,
         591200,
         "2021-09-13"
        ],
        [
         "CMR",
         "2021-05-01",
         591200,
         0,
         "2021-09-13"
        ],
        [
         "CMR",
         "2021-06-01",
         591200,
         0,
         "2021-09-13"
        ],
        [
         "CMR",
         "2021-07-01",
         894250,
         303050,
         "2021-09-13"
        ],
        [
         "COD",
         "2021-04-01",
         451000,
         451000,
         "2021-09-13"
        ],
        [
         "COD",
         "2021-05-01",
         451000,
         0,
         "2021-09-13"
        ],
        [
         "COD",
         "2021-06-01",
         451000,
         0,
         "2021-09-13"
        ],
        [
         "COD",
         "2021-07-01",
         451000,
         0,
         "2021-09-13"
        ],
        [
         "COG",
         "2021-04-01",
         151220,
         151220,
         "2021-09-13"
        ],
        [
         "COG",
         "2021-05-01",
         156220,
         5000,
         "2021-09-13"
        ],
        [
         "COG",
         "2021-06-01",
         508200,
         351980,
         "2021-09-13"
        ],
        [
         "COG",
         "2021-07-01",
         508200,
         0,
         "2021-09-13"
        ],
        [
         "COM",
         "2021-04-01",
         112000,
         112000,
         "2021-09-13"
        ],
        [
         "COM",
         "2021-05-01",
         118000,
         6000,
         "2021-09-13"
        ],
        [
         "COM",
         "2021-06-01",
         118000,
         0,
         "2021-09-13"
        ],
        [
         "COM",
         "2021-07-01",
         418000,
         300000,
         "2021-09-13"
        ],
        [
         "CPV",
         "2021-04-01",
         29850,
         29850,
         "2021-09-13"
        ],
        [
         "CPV",
         "2021-05-01",
         29850,
         0,
         "2021-09-13"
        ],
        [
         "CPV",
         "2021-06-01",
         235050,
         205200,
         "2021-09-13"
        ],
        [
         "CPV",
         "2021-07-01",
         409050,
         174000,
         "2021-09-13"
        ],
        [
         "DMA",
         "2021-03-01",
         98000,
         98000,
         "2021-09-13"
        ],
        [
         "DMA",
         "2021-05-01",
         118000,
         20000,
         "2021-09-13"
        ],
        [
         "DMA",
         "2021-07-01",
         20000,
         -98000,
         "2021-09-13"
        ],
        [
         "DZA",
         "2021-04-01",
         844500,
         844500,
         "2021-09-13"
        ],
        [
         "DZA",
         "2021-05-01",
         2273200,
         1428700,
         "2021-09-13"
        ],
        [
         "DZA",
         "2021-06-01",
         3723200,
         1450000,
         "2021-09-13"
        ],
        [
         "DZA",
         "2021-07-01",
         3723200,
         0,
         "2021-09-13"
        ],
        [
         "ETH",
         "2021-03-01",
         2200000,
         2200000,
         "2021-09-13"
        ],
        [
         "ETH",
         "2021-04-01",
         2500000,
         300000,
         "2021-09-13"
        ],
        [
         "ETH",
         "2021-05-01",
         2500000,
         0,
         "2021-09-13"
        ],
        [
         "ETH",
         "2021-06-01",
         2500000,
         0,
         "2021-09-13"
        ],
        [
         "ETH",
         "2021-07-01",
         2891200,
         391200,
         "2021-09-13"
        ],
        [
         "GAB",
         "2021-04-01",
         100000,
         100000,
         "2021-09-13"
        ],
        [
         "GAB",
         "2021-05-01",
         400000,
         300000,
         "2021-09-13"
        ],
        [
         "GAB",
         "2021-06-01",
         400000,
         0,
         "2021-09-13"
        ],
        [
         "GAB",
         "2021-07-01",
         410000,
         10000,
         "2021-09-13"
        ],
        [
         "GHA",
         "2021-04-01",
         1332850,
         1332850,
         "2021-09-13"
        ],
        [
         "GHA",
         "2021-05-01",
         1332850,
         0,
         "2021-09-13"
        ],
        [
         "GHA",
         "2021-06-01",
         1337850,
         5000,
         "2021-09-13"
        ],
        [
         "GHA",
         "2021-07-01",
         1337850,
         0,
         "2021-09-13"
        ],
        [
         "GIN",
         "2021-03-01",
         703400,
         703400,
         "2021-09-13"
        ],
        [
         "GIN",
         "2021-04-01",
         1003400,
         300000,
         "2021-09-13"
        ],
        [
         "GIN",
         "2021-05-01",
         934400,
         -69000,
         "2021-09-13"
        ],
        [
         "GIN",
         "2021-06-01",
         1003400,
         69000,
         "2021-09-13"
        ],
        [
         "GIN",
         "2021-07-01",
         1153400,
         150000,
         "2021-09-13"
        ],
        [
         "GMB",
         "2021-04-01",
         51000,
         51000,
         "2021-09-13"
        ],
        [
         "GMB",
         "2021-05-01",
         51000,
         0,
         "2021-09-13"
        ],
        [
         "GMB",
         "2021-06-01",
         51000,
         0,
         "2021-09-13"
        ],
        [
         "GMB",
         "2021-07-01",
         202200,
         151200,
         "2021-09-13"
        ],
        [
         "GNB",
         "2021-04-01",
         28800,
         28800,
         "2021-09-13"
        ],
        [
         "GNB",
         "2021-05-01",
         28800,
         0,
         "2021-09-13"
        ],
        [
         "GNB",
         "2021-06-01",
         50800,
         22000,
         "2021-09-13"
        ],
        [
         "GNB",
         "2021-07-01",
         74800,
         24000,
         "2021-09-13"
        ],
        [
         "GNQ",
         "2021-04-01",
         300000,
         300000,
         "2021-09-13"
        ],
        [
         "GNQ",
         "2021-05-01",
         300000,
         0,
         "2021-09-13"
        ],
        [
         "GNQ",
         "2021-06-01",
         820000,
         520000,
         "2021-09-13"
        ],
        [
         "GNQ",
         "2021-07-01",
         820000,
         0,
         "2021-09-13"
        ],
        [
         "GRD",
         "2021-06-01",
         45600,
         45600,
         "2021-09-13"
        ],
        [
         "HND",
         "2021-03-01",
         53000,
         53000,
         "2021-09-13"
        ],
        [
         "KEN",
         "2021-04-01",
         1120000,
         1120000,
         "2021-09-13"
        ],
        [
         "KEN",
         "2021-05-01",
         1120000,
         0,
         "2021-09-13"
        ],
        [
         "KEN",
         "2021-06-01",
         1478000,
         358000,
         "2021-09-13"
        ],
        [
         "KEN",
         "2021-07-01",
         2143100,
         665100,
         "2021-09-13"
        ],
        [
         "KGZ",
         "2021-04-01",
         170000,
         170000,
         "2021-09-13"
        ],
        [
         "KGZ",
         "2021-06-01",
         null,
         null,
         "2021-09-13"
        ],
        [
         "KGZ",
         "2021-07-01",
         null,
         null,
         "2021-09-13"
        ],
        [
         "KHM",
         "2021-03-01",
         4024000,
         4024000,
         "2021-09-13"
        ],
        [
         "KHM",
         "2021-04-01",
         6024000,
         2000000,
         "2021-09-13"
        ],
        [
         "KHM",
         "2021-05-01",
         9024000,
         3000000,
         "2021-09-13"
        ],
        [
         "LAO",
         "2021-03-01",
         1542800,
         1542800,
         "2021-09-13"
        ],
        [
         "LAO",
         "2021-04-01",
         1542800,
         0,
         "2021-09-13"
        ],
        [
         "LBR",
         "2021-04-01",
         123000,
         123000,
         "2021-09-13"
        ],
        [
         "LBR",
         "2021-05-01",
         123000,
         0,
         "2021-09-13"
        ],
        [
         "LBR",
         "2021-06-01",
         123000,
         0,
         "2021-09-13"
        ],
        [
         "LBR",
         "2021-07-01",
         123000,
         0,
         "2021-09-13"
        ],
        [
         "LCA",
         "2021-03-01",
         75000,
         75000,
         "2021-09-13"
        ],
        [
         "LSO",
         "2021-04-01",
         36000,
         36000,
         "2021-09-13"
        ],
        [
         "LSO",
         "2021-05-01",
         36000,
         0,
         "2021-09-13"
        ],
        [
         "LSO",
         "2021-06-01",
         72000,
         36000,
         "2021-09-13"
        ],
        [
         "LSO",
         "2021-07-01",
         374400,
         302400,
         "2021-09-13"
        ],
        [
         "MDG",
         "2021-04-01",
         250000,
         250000,
         "2021-09-13"
        ],
        [
         "MDG",
         "2021-05-01",
         250000,
         0,
         "2021-09-13"
        ],
        [
         "MDG",
         "2021-06-01",
         250000,
         0,
         "2021-09-13"
        ],
        [
         "MDG",
         "2021-07-01",
         552750,
         302750,
         "2021-09-13"
        ],
        [
         "MLI",
         "2021-04-01",
         396000,
         396000,
         "2021-09-13"
        ],
        [
         "MLI",
         "2021-05-01",
         396000,
         0,
         "2021-09-13"
        ],
        [
         "MLI",
         "2021-06-01",
         396000,
         0,
         "2021-09-13"
        ],
        [
         "MLI",
         "2021-07-01",
         396000,
         0,
         "2021-09-13"
        ],
        [
         "MNG",
         "2021-03-01",
         1440540,
         1440540,
         "2021-09-13"
        ],
        [
         "MOZ",
         "2021-03-01",
         684000,
         684000,
         "2021-09-13"
        ],
        [
         "MOZ",
         "2021-04-01",
         684000,
         0,
         "2021-09-13"
        ],
        [
         "MOZ",
         "2021-05-01",
         684000,
         0,
         "2021-09-13"
        ],
        [
         "MOZ",
         "2021-06-01",
         1720400,
         1036400,
         "2021-09-13"
        ],
        [
         "MOZ",
         "2021-07-01",
         2046400,
         326000,
         "2021-09-13"
        ],
        [
         "MRT",
         "2021-04-01",
         202800,
         202800,
         "2021-09-13"
        ],
        [
         "MRT",
         "2021-05-01",
         175700,
         -27100,
         "2021-09-13"
        ],
        [
         "MRT",
         "2021-06-01",
         530700,
         355000,
         "2021-09-13"
        ],
        [
         "MRT",
         "2021-07-01",
         530700,
         0,
         "2021-09-13"
        ],
        [
         "MUS",
         "2021-04-01",
         562800,
         562800,
         "2021-09-13"
        ],
        [
         "MUS",
         "2021-05-01",
         962800,
         400000,
         "2021-09-13"
        ],
        [
         "MUS",
         "2021-06-01",
         1062400,
         99600,
         "2021-09-13"
        ],
        [
         "MUS",
         "2021-07-01",
         1622400,
         560000,
         "2021-09-13"
        ],
        [
         "MWI",
         "2021-04-01",
         512000,
         512000,
         "2021-09-13"
        ],
        [
         "MWI",
         "2021-05-01",
         512000,
         0,
         "2021-09-13"
        ],
        [
         "MWI",
         "2021-06-01",
         512000,
         0,
         "2021-09-13"
        ],
        [
         "MWI",
         "2021-07-01",
         704000,
         192000,
         "2021-09-13"
        ],
        [
         "NAM",
         "2021-04-01",
         154000,
         154000,
         "2021-09-13"
        ],
        [
         "NAM",
         "2021-05-01",
         197200,
         43200,
         "2021-09-13"
        ],
        [
         "NAM",
         "2021-06-01",
         197200,
         0,
         "2021-09-13"
        ],
        [
         "NAM",
         "2021-07-01",
         447200,
         250000,
         "2021-09-13"
        ],
        [
         "NER",
         "2021-03-01",
         780200,
         780200,
         "2021-09-13"
        ],
        [
         "NER",
         "2021-04-01",
         780200,
         0,
         "2021-09-13"
        ],
        [
         "NER",
         "2021-05-01",
         780000,
         -200,
         "2021-09-13"
        ],
        [
         "NER",
         "2021-06-01",
         1082400,
         302400,
         "2021-09-13"
        ],
        [
         "NER",
         "2021-07-01",
         931200,
         -151200,
         "2021-09-13"
        ],
        [
         "NGA",
         "2021-04-01",
         3925500,
         3925500,
         "2021-09-13"
        ],
        [
         "NGA",
         "2021-05-01",
         3925500,
         0,
         "2021-09-13"
        ],
        [
         "NGA",
         "2021-06-01",
         4024000,
         98500,
         "2021-09-13"
        ],
        [
         "NGA",
         "2021-07-01",
         8024080,
         4000080,
         "2021-09-13"
        ],
        [
         "NIC",
         "2021-06-01",
         645000,
         645000,
         "2021-09-13"
        ],
        [
         "PAK",
         "2021-04-01",
         5260000,
         5260000,
         "2021-09-13"
        ],
        [
         "PAK",
         "2021-05-01",
         12263000,
         7003000,
         "2021-09-13"
        ],
        [
         "PAK",
         "2021-06-01",
         17441841,
         5178841,
         "2021-09-13"
        ],
        [
         "PHL",
         "2021-03-01",
         4025600,
         4025600,
         "2021-09-13"
        ],
        [
         "PHL",
         "2021-04-01",
         8329050,
         4303450,
         "2021-09-13"
        ],
        [
         "PHL",
         "2021-05-01",
         14205870,
         5876820,
         "2021-09-13"
        ],
        [
         "PHL",
         "2021-06-01",
         17457810,
         3251940,
         "2021-09-13"
        ],
        [
         "PNG",
         "2021-03-01",
         141000,
         141000,
         "2021-09-13"
        ],
        [
         "PNG",
         "2021-04-01",
         141000,
         0,
         "2021-09-13"
        ],
        [
         "PNG",
         "2021-05-01",
         151000,
         10000,
         "2021-09-13"
        ],
        [
         "PNG",
         "2021-06-01",
         497400,
         346400,
         "2021-09-13"
        ],
        [
         "PNG",
         "2021-07-01",
         807800,
         310400,
         "2021-09-13"
        ],
        [
         "RWA",
         "2021-04-01",
         392960,
         392960,
         "2021-09-13"
        ],
        [
         "RWA",
         "2021-05-01",
         392960,
         0,
         "2021-09-13"
        ],
        [
         "RWA",
         "2021-06-01",
         495920,
         102960,
         "2021-09-13"
        ],
        [
         "RWA",
         "2021-07-01",
         879300,
         383380,
         "2021-09-13"
        ],
        [
         "SEN",
         "2021-04-01",
         639000,
         639000,
         "2021-09-13"
        ],
        [
         "SEN",
         "2021-05-01",
         1123800,
         484800,
         "2021-09-13"
        ],
        [
         "SEN",
         "2021-06-01",
         1123800,
         0,
         "2021-09-13"
        ],
        [
         "SEN",
         "2021-07-01",
         1758318,
         634518,
         "2021-09-13"
        ],
        [
         "SLE",
         "2021-04-01",
         378000,
         378000,
         "2021-09-13"
        ],
        [
         "SLE",
         "2021-05-01",
         378000,
         0,
         "2021-09-13"
        ],
        [
         "SLE",
         "2021-07-01",
         516000,
         138000,
         "2021-09-13"
        ],
        [
         "SLV",
         "2021-03-01",
         1734000,
         1734000,
         "2021-09-13"
        ],
        [
         "SLV",
         "2021-04-01",
         1734000,
         0,
         "2021-09-13"
        ],
        [
         "SLV",
         "2021-05-01",
         940400,
         -793600,
         "2021-09-13"
        ],
        [
         "SLV",
         "2021-06-01",
         1121870,
         181470,
         "2021-09-13"
        ],
        [
         "SLV",
         "2021-07-01",
         4122070,
         3000200,
         "2021-09-13"
        ],
        [
         "SOM",
         "2021-04-01",
         200000,
         200000,
         "2021-09-13"
        ],
        [
         "SSD",
         "2021-04-01",
         191000,
         191000,
         "2021-09-13"
        ],
        [
         "SSD",
         "2021-07-01",
         192000,
         1000,
         "2021-09-13"
        ],
        [
         "STP",
         "2021-04-01",
         24000,
         24000,
         "2021-09-13"
        ],
        [
         "STP",
         "2021-05-01",
         24000,
         0,
         "2021-09-13"
        ],
        [
         "STP",
         "2021-06-01",
         48500,
         24500,
         "2021-09-13"
        ],
        [
         "STP",
         "2021-07-01",
         60500,
         12000,
         "2021-09-13"
        ],
        [
         "SWZ",
         "2021-03-01",
         32000,
         32000,
         "2021-09-13"
        ],
        [
         "SWZ",
         "2021-04-01",
         32000,
         0,
         "2021-09-13"
        ],
        [
         "SWZ",
         "2021-05-01",
         32000,
         0,
         "2021-09-13"
        ],
        [
         "SWZ",
         "2021-06-01",
         32000,
         0,
         "2021-09-13"
        ],
        [
         "SWZ",
         "2021-07-01",
         340400,
         308400,
         "2021-09-13"
        ],
        [
         "SYC",
         "2021-04-01",
         141000,
         141000,
         "2021-09-13"
        ],
        [
         "SYC",
         "2021-05-01",
         140000,
         -1000,
         "2021-09-13"
        ],
        [
         "SYC",
         "2021-06-01",
         140000,
         0,
         "2021-09-13"
        ],
        [
         "SYC",
         "2021-07-01",
         141000,
         1000,
         "2021-09-13"
        ],
        [
         "SYR",
         "2021-06-01",
         2030000,
         2030000,
         "2021-09-13"
        ],
        [
         "TCD",
         "2021-05-01",
         200000,
         200000,
         "2021-09-13"
        ],
        [
         "TCD",
         "2021-06-01",
         300620,
         100620,
         "2021-09-13"
        ],
        [
         "TCD",
         "2021-07-01",
         300620,
         0,
         "2021-09-13"
        ],
        [
         "TGO",
         "2021-04-01",
         476000,
         476000,
         "2021-09-13"
        ],
        [
         "TGO",
         "2021-05-01",
         476000,
         0,
         "2021-09-13"
        ],
        [
         "TGO",
         "2021-06-01",
         716620,
         240620,
         "2021-09-13"
        ],
        [
         "TGO",
         "2021-07-01",
         716620,
         0,
         "2021-09-13"
        ],
        [
         "TJK",
         "2021-03-01",
         192000,
         192000,
         "2021-09-13"
        ],
        [
         "TUN",
         "2021-05-01",
         586000,
         586000,
         "2021-09-13"
        ],
        [
         "TZA",
         "2021-07-01",
         1000000,
         1000000,
         "2021-09-13"
        ],
        [
         "UGA",
         "2021-04-01",
         964000,
         964000,
         "2021-09-13"
        ],
        [
         "UGA",
         "2021-05-01",
         964000,
         0,
         "2021-09-13"
        ],
        [
         "UGA",
         "2021-06-01",
         964000,
         0,
         "2021-09-13"
        ],
        [
         "UGA",
         "2021-07-01",
         964000,
         0,
         "2021-09-13"
        ],
        [
         "UKR",
         "2021-03-01",
         817000,
         817000,
         "2021-09-13"
        ],
        [
         "UKR",
         "2021-04-01",
         1184200,
         367200,
         "2021-09-13"
        ],
        [
         "UKR",
         "2021-06-01",
         5055916,
         3871716,
         "2021-09-13"
        ],
        [
         "UKR",
         "2021-07-01",
         12492956,
         7437040,
         "2021-09-13"
        ],
        [
         "VCT",
         "2021-03-01",
         35000,
         35000,
         "2021-09-13"
        ],
        [
         "WSM",
         "2021-03-01",
         24000,
         24000,
         "2021-09-13"
        ],
        [
         "YEM",
         "2021-03-01",
         360000,
         360000,
         "2021-09-13"
        ],
        [
         "ZAF",
         "2021-04-01",
         500000,
         500000,
         "2021-09-13"
        ],
        [
         "ZAF",
         "2021-05-01",
         500000,
         0,
         "2021-09-13"
        ],
        [
         "ZAF",
         "2021-06-01",
         5674000,
         5174000,
         "2021-09-13"
        ],
        [
         "ZAF",
         "2021-07-01",
         8674000,
         3000000,
         "2021-09-13"
        ],
        [
         "ZMB",
         "2021-04-01",
         228000,
         228000,
         "2021-09-13"
        ],
        [
         "ZMB",
         "2021-05-01",
         228000,
         0,
         "2021-09-13"
        ],
        [
         "ZMB",
         "2021-06-01",
         228000,
         0,
         "2021-09-13"
        ],
        [
         "ZMB",
         "2021-07-01",
         228000,
         0,
         "2021-09-13"
        ],
        [
         "ZWE",
         "2021-04-01",
         675000,
         675000,
         "2021-09-13"
        ],
        [
         "ZWE",
         "2021-05-01",
         1487000,
         812000,
         "2021-09-13"
        ],
        [
         "ZWE",
         "2021-06-01",
         1987000,
         500000,
         "2021-09-13"
        ],
        [
         "ZWE",
         "2021-07-01",
         6487000,
         4500000,
         "2021-09-13"
        ]
       ],
       "datasetInfos": [],
       "dbfsResultPath": null,
       "isJsonSchema": true,
       "metadata": {},
       "overflow": false,
       "plotOptions": {
        "customPlotOptions": {},
        "displayType": "table",
        "pivotAggregation": null,
        "pivotColumns": null,
        "xColumns": null,
        "yColumns": null
       },
       "removedWidgets": [],
       "schema": [
        {
         "metadata": "{}",
         "name": "iso_code",
         "type": "\"string\""
        },
        {
         "metadata": "{}",
         "name": "date",
         "type": "\"string\""
        },
        {
         "metadata": "{}",
         "name": "cumulative_doses_received_uti",
         "type": "\"double\""
        },
        {
         "metadata": "{}",
         "name": "monthly_doses_recieved_uti",
         "type": "\"double\""
        },
        {
         "metadata": "{}",
         "name": "date_accessed",
         "type": "\"date\""
        }
       ],
       "type": "table"
      }
     },
     "output_type": "display_data"
    },
    {
     "data": {
      "text/html": [
       "<style scoped>\n",
       "  .table-result-container {\n",
       "    max-height: 300px;\n",
       "    overflow: auto;\n",
       "  }\n",
       "  table, th, td {\n",
       "    border: 1px solid black;\n",
       "    border-collapse: collapse;\n",
       "  }\n",
       "  th, td {\n",
       "    padding: 5px;\n",
       "  }\n",
       "  th {\n",
       "    text-align: left;\n",
       "  }\n",
       "</style><div class='table-result-container'><table class='table-result'><thead style='background-color: white'><tr><th>iso_code</th><th>count(1)</th></tr></thead><tbody><tr><td>ZMB</td><td>4</td></tr><tr><td>MOZ</td><td>5</td></tr><tr><td>SOM</td><td>1</td></tr><tr><td>COD</td><td>4</td></tr><tr><td>ETH</td><td>5</td></tr><tr><td>GNQ</td><td>4</td></tr><tr><td>UKR</td><td>4</td></tr><tr><td>CMR</td><td>4</td></tr><tr><td>GHA</td><td>4</td></tr><tr><td>NER</td><td>5</td></tr><tr><td>SEN</td><td>4</td></tr><tr><td>COM</td><td>4</td></tr><tr><td>LCA</td><td>1</td></tr><tr><td>VCT</td><td>1</td></tr><tr><td>GMB</td><td>4</td></tr><tr><td>TJK</td><td>1</td></tr><tr><td>UGA</td><td>4</td></tr><tr><td>MLI</td><td>4</td></tr><tr><td>AFG</td><td>1</td></tr><tr><td>DMA</td><td>3</td></tr><tr><td>PNG</td><td>5</td></tr><tr><td>YEM</td><td>1</td></tr><tr><td>MNG</td><td>1</td></tr><tr><td>SYC</td><td>4</td></tr><tr><td>STP</td><td>4</td></tr><tr><td>COG</td><td>4</td></tr><tr><td>GNB</td><td>4</td></tr><tr><td>BWA</td><td>4</td></tr><tr><td>BFA</td><td>3</td></tr><tr><td>TGO</td><td>4</td></tr><tr><td>NIC</td><td>1</td></tr><tr><td>SSD</td><td>2</td></tr><tr><td>MWI</td><td>4</td></tr><tr><td>MRT</td><td>4</td></tr><tr><td>CAF</td><td>4</td></tr><tr><td>PAK</td><td>3</td></tr><tr><td>RWA</td><td>4</td></tr><tr><td>SLE</td><td>3</td></tr><tr><td>CPV</td><td>4</td></tr><tr><td>MDG</td><td>4</td></tr><tr><td>CIV</td><td>5</td></tr><tr><td>LBR</td><td>4</td></tr><tr><td>LSO</td><td>4</td></tr><tr><td>ZAF</td><td>4</td></tr><tr><td>NAM</td><td>4</td></tr><tr><td>TUN</td><td>1</td></tr><tr><td>ZWE</td><td>4</td></tr><tr><td>MUS</td><td>4</td></tr><tr><td>SWZ</td><td>5</td></tr><tr><td>KEN</td><td>4</td></tr><tr><td>WSM</td><td>1</td></tr><tr><td>AGO</td><td>4</td></tr><tr><td>GAB</td><td>4</td></tr><tr><td>NGA</td><td>4</td></tr><tr><td>HND</td><td>1</td></tr><tr><td>SLV</td><td>5</td></tr><tr><td>GRD</td><td>1</td></tr><tr><td>SYR</td><td>1</td></tr><tr><td>GIN</td><td>5</td></tr><tr><td>KHM</td><td>3</td></tr><tr><td>TCD</td><td>3</td></tr><tr><td>DZA</td><td>4</td></tr><tr><td>TZA</td><td>1</td></tr><tr><td>KGZ</td><td>3</td></tr><tr><td>LAO</td><td>2</td></tr><tr><td>PHL</td><td>4</td></tr><tr><td>BEN</td><td>4</td></tr></tbody></table></div>"
      ]
     },
     "metadata": {
      "application/vnd.databricks.v1+output": {
       "addedWidgets": {},
       "aggData": [],
       "aggError": "",
       "aggOverflow": false,
       "aggSchema": [],
       "aggSeriesLimitReached": false,
       "aggType": "",
       "arguments": {},
       "columnCustomDisplayInfos": {},
       "data": [
        [
         "ZMB",
         4
        ],
        [
         "MOZ",
         5
        ],
        [
         "SOM",
         1
        ],
        [
         "COD",
         4
        ],
        [
         "ETH",
         5
        ],
        [
         "GNQ",
         4
        ],
        [
         "UKR",
         4
        ],
        [
         "CMR",
         4
        ],
        [
         "GHA",
         4
        ],
        [
         "NER",
         5
        ],
        [
         "SEN",
         4
        ],
        [
         "COM",
         4
        ],
        [
         "LCA",
         1
        ],
        [
         "VCT",
         1
        ],
        [
         "GMB",
         4
        ],
        [
         "TJK",
         1
        ],
        [
         "UGA",
         4
        ],
        [
         "MLI",
         4
        ],
        [
         "AFG",
         1
        ],
        [
         "DMA",
         3
        ],
        [
         "PNG",
         5
        ],
        [
         "YEM",
         1
        ],
        [
         "MNG",
         1
        ],
        [
         "SYC",
         4
        ],
        [
         "STP",
         4
        ],
        [
         "COG",
         4
        ],
        [
         "GNB",
         4
        ],
        [
         "BWA",
         4
        ],
        [
         "BFA",
         3
        ],
        [
         "TGO",
         4
        ],
        [
         "NIC",
         1
        ],
        [
         "SSD",
         2
        ],
        [
         "MWI",
         4
        ],
        [
         "MRT",
         4
        ],
        [
         "CAF",
         4
        ],
        [
         "PAK",
         3
        ],
        [
         "RWA",
         4
        ],
        [
         "SLE",
         3
        ],
        [
         "CPV",
         4
        ],
        [
         "MDG",
         4
        ],
        [
         "CIV",
         5
        ],
        [
         "LBR",
         4
        ],
        [
         "LSO",
         4
        ],
        [
         "ZAF",
         4
        ],
        [
         "NAM",
         4
        ],
        [
         "TUN",
         1
        ],
        [
         "ZWE",
         4
        ],
        [
         "MUS",
         4
        ],
        [
         "SWZ",
         5
        ],
        [
         "KEN",
         4
        ],
        [
         "WSM",
         1
        ],
        [
         "AGO",
         4
        ],
        [
         "GAB",
         4
        ],
        [
         "NGA",
         4
        ],
        [
         "HND",
         1
        ],
        [
         "SLV",
         5
        ],
        [
         "GRD",
         1
        ],
        [
         "SYR",
         1
        ],
        [
         "GIN",
         5
        ],
        [
         "KHM",
         3
        ],
        [
         "TCD",
         3
        ],
        [
         "DZA",
         4
        ],
        [
         "TZA",
         1
        ],
        [
         "KGZ",
         3
        ],
        [
         "LAO",
         2
        ],
        [
         "PHL",
         4
        ],
        [
         "BEN",
         4
        ]
       ],
       "datasetInfos": [],
       "dbfsResultPath": null,
       "isJsonSchema": true,
       "metadata": {},
       "overflow": false,
       "plotOptions": {
        "customPlotOptions": {},
        "displayType": "table",
        "pivotAggregation": null,
        "pivotColumns": null,
        "xColumns": null,
        "yColumns": null
       },
       "removedWidgets": [],
       "schema": [
        {
         "metadata": "{}",
         "name": "iso_code",
         "type": "\"string\""
        },
        {
         "metadata": "{}",
         "name": "count(1)",
         "type": "\"long\""
        }
       ],
       "type": "table"
      }
     },
     "output_type": "display_data"
    }
   ],
   "source": [
    "display(spark.sql(\"SELECT * FROM covax_supply_chain_analytics.analysis_vx_throughput_supply\").orderBy('iso_code', 'date'))\n",
    "display(spark.sql(\"SELECT * FROM covax_supply_chain_analytics.analysis_vx_throughput_supply\").groupby('iso_code').agg(count('*')))"
   ]
  },
  {
   "cell_type": "markdown",
   "metadata": {
    "application/vnd.databricks.v1+cell": {
     "inputWidgets": {},
     "nuid": "6b6c841f-f2b7-456c-89ae-092c859ef339",
     "showTitle": false,
     "title": ""
    }
   },
   "source": [
    "##### Query Delta Log"
   ]
  },
  {
   "cell_type": "code",
   "execution_count": 0,
   "metadata": {
    "application/vnd.databricks.v1+cell": {
     "inputWidgets": {},
     "nuid": "8839e371-4cbc-470b-ba65-156846b9cc88",
     "showTitle": false,
     "title": ""
    }
   },
   "outputs": [
    {
     "data": {
      "text/html": [
       "<style scoped>\n",
       "  .table-result-container {\n",
       "    max-height: 300px;\n",
       "    overflow: auto;\n",
       "  }\n",
       "  table, th, td {\n",
       "    border: 1px solid black;\n",
       "    border-collapse: collapse;\n",
       "  }\n",
       "  th, td {\n",
       "    padding: 5px;\n",
       "  }\n",
       "  th {\n",
       "    text-align: left;\n",
       "  }\n",
       "</style><div class='table-result-container'><table class='table-result'><thead style='background-color: white'><tr><th>version</th><th>timestamp</th><th>userId</th><th>userName</th><th>operation</th><th>operationParameters</th><th>job</th><th>notebook</th><th>clusterId</th><th>readVersion</th><th>isolationLevel</th><th>isBlindAppend</th><th>operationMetrics</th><th>userMetadata</th></tr></thead><tbody><tr><td>1</td><td>2021-09-13T23:59:10.000+0000</td><td>6136552160696939</td><td>jeremy.cooper@gatesfoundation.org</td><td>WRITE</td><td>Map(mode -> Overwrite, partitionBy -> [])</td><td>null</td><td>List(2262750785590075)</td><td>0210-222124-taper262</td><td>0</td><td>WriteSerializable</td><td>false</td><td>Map(numFiles -> 1, numOutputBytes -> 4430, numOutputRows -> 223)</td><td>null</td></tr><tr><td>0</td><td>2021-09-13T23:35:54.000+0000</td><td>6136552160696939</td><td>jeremy.cooper@gatesfoundation.org</td><td>WRITE</td><td>Map(mode -> Overwrite, partitionBy -> [])</td><td>null</td><td>List(2262750785590075)</td><td>0716-171126-shelf806</td><td>null</td><td>WriteSerializable</td><td>false</td><td>Map(numFiles -> 1, numOutputBytes -> 4430, numOutputRows -> 223)</td><td>null</td></tr></tbody></table></div>"
      ]
     },
     "metadata": {
      "application/vnd.databricks.v1+output": {
       "addedWidgets": {},
       "aggData": [],
       "aggError": "",
       "aggOverflow": false,
       "aggSchema": [],
       "aggSeriesLimitReached": false,
       "aggType": "",
       "arguments": {},
       "columnCustomDisplayInfos": {},
       "data": [
        [
         1,
         "2021-09-13T23:59:10.000+0000",
         "6136552160696939",
         "jeremy.cooper@gatesfoundation.org",
         "WRITE",
         {
          "mode": "Overwrite",
          "partitionBy": "[]"
         },
         null,
         [
          "2262750785590075"
         ],
         "0210-222124-taper262",
         0,
         "WriteSerializable",
         false,
         {
          "numFiles": "1",
          "numOutputBytes": "4430",
          "numOutputRows": "223"
         },
         null
        ],
        [
         0,
         "2021-09-13T23:35:54.000+0000",
         "6136552160696939",
         "jeremy.cooper@gatesfoundation.org",
         "WRITE",
         {
          "mode": "Overwrite",
          "partitionBy": "[]"
         },
         null,
         [
          "2262750785590075"
         ],
         "0716-171126-shelf806",
         null,
         "WriteSerializable",
         false,
         {
          "numFiles": "1",
          "numOutputBytes": "4430",
          "numOutputRows": "223"
         },
         null
        ]
       ],
       "datasetInfos": [],
       "dbfsResultPath": null,
       "isJsonSchema": true,
       "metadata": {},
       "overflow": false,
       "plotOptions": {
        "customPlotOptions": {},
        "displayType": "table",
        "pivotAggregation": null,
        "pivotColumns": null,
        "xColumns": null,
        "yColumns": null
       },
       "removedWidgets": [],
       "schema": [
        {
         "metadata": "{}",
         "name": "version",
         "type": "\"long\""
        },
        {
         "metadata": "{}",
         "name": "timestamp",
         "type": "\"timestamp\""
        },
        {
         "metadata": "{}",
         "name": "userId",
         "type": "\"string\""
        },
        {
         "metadata": "{}",
         "name": "userName",
         "type": "\"string\""
        },
        {
         "metadata": "{}",
         "name": "operation",
         "type": "\"string\""
        },
        {
         "metadata": "{}",
         "name": "operationParameters",
         "type": "{\"type\":\"map\",\"keyType\":\"string\",\"valueType\":\"string\",\"valueContainsNull\":true}"
        },
        {
         "metadata": "{}",
         "name": "job",
         "type": "{\"type\":\"struct\",\"fields\":[{\"name\":\"jobId\",\"type\":\"string\",\"nullable\":true,\"metadata\":{}},{\"name\":\"jobName\",\"type\":\"string\",\"nullable\":true,\"metadata\":{}},{\"name\":\"runId\",\"type\":\"string\",\"nullable\":true,\"metadata\":{}},{\"name\":\"jobOwnerId\",\"type\":\"string\",\"nullable\":true,\"metadata\":{}},{\"name\":\"triggerType\",\"type\":\"string\",\"nullable\":true,\"metadata\":{}}]}"
        },
        {
         "metadata": "{}",
         "name": "notebook",
         "type": "{\"type\":\"struct\",\"fields\":[{\"name\":\"notebookId\",\"type\":\"string\",\"nullable\":true,\"metadata\":{}}]}"
        },
        {
         "metadata": "{}",
         "name": "clusterId",
         "type": "\"string\""
        },
        {
         "metadata": "{}",
         "name": "readVersion",
         "type": "\"long\""
        },
        {
         "metadata": "{}",
         "name": "isolationLevel",
         "type": "\"string\""
        },
        {
         "metadata": "{}",
         "name": "isBlindAppend",
         "type": "\"boolean\""
        },
        {
         "metadata": "{}",
         "name": "operationMetrics",
         "type": "{\"type\":\"map\",\"keyType\":\"string\",\"valueType\":\"string\",\"valueContainsNull\":true}"
        },
        {
         "metadata": "{}",
         "name": "userMetadata",
         "type": "\"string\""
        }
       ],
       "type": "table"
      }
     },
     "output_type": "display_data"
    }
   ],
   "source": [
    "display(\n",
    "  spark.sql(\"DESCRIBE HISTORY delta. `/mnt/covax-supply-chain-analytics/transformed/who/analysis_vx_throughput_supply.delta`\")\n",
    ")"
   ]
  },
  {
   "cell_type": "markdown",
   "metadata": {
    "application/vnd.databricks.v1+cell": {
     "inputWidgets": {},
     "nuid": "4b61d20f-fb6e-40e0-806a-366573e38efc",
     "showTitle": false,
     "title": ""
    }
   },
   "source": [
    "## Appendix"
   ]
  }
 ],
 "metadata": {
  "application/vnd.databricks.v1+notebook": {
   "dashboards": [],
   "language": "python",
   "notebookMetadata": {
    "pythonIndentUnit": 2
   },
   "notebookName": "01_Vx Throughput Analysis | Supply Data Ingestion",
   "notebookOrigID": 1884626790114504,
   "widgets": {
    "Dataset": {
     "currentValue": "analysis_vx_throughput_supply",
     "nuid": "da4dab3a-d524-4416-a5f0-7002932948cc",
     "widgetInfo": {
      "defaultValue": "",
      "label": null,
      "name": "Dataset",
      "options": {
       "validationRegex": null,
       "widgetType": "text"
      },
      "widgetType": "text"
     }
    },
    "Partner": {
     "currentValue": "covax-supply-chain-analytics",
     "nuid": "720caa1c-633b-4f16-a459-b545de1978f8",
     "widgetInfo": {
      "defaultValue": "",
      "label": null,
      "name": "Partner",
      "options": {
       "validationRegex": null,
       "widgetType": "text"
      },
      "widgetType": "text"
     }
    },
    "Project": {
     "currentValue": "",
     "nuid": "1c9c4860-d55c-429d-8a74-305cf756fa4a",
     "widgetInfo": {
      "defaultValue": "",
      "label": null,
      "name": "Project",
      "options": {
       "validationRegex": null,
       "widgetType": "text"
      },
      "widgetType": "text"
     }
    },
    "Source": {
     "currentValue": "who",
     "nuid": "6c4f4359-c6a3-4090-ae40-406eeb753c67",
     "widgetInfo": {
      "defaultValue": "",
      "label": null,
      "name": "Source",
      "options": {
       "validationRegex": null,
       "widgetType": "text"
      },
      "widgetType": "text"
     }
    },
    "iso_code": {
     "currentValue": "CIV",
     "nuid": "06f53604-6867-49e2-95b7-8f2ce64ab346",
     "widgetInfo": {
      "defaultValue": "",
      "label": null,
      "name": "iso_code",
      "options": {
       "validationRegex": null,
       "widgetType": "text"
      },
      "widgetType": "text"
     }
    }
   }
  },
  "kernelspec": {
   "display_name": "Python 3",
   "language": "python",
   "name": "python3"
  },
  "language_info": {
   "codemirror_mode": {
    "name": "ipython",
    "version": 3
   },
   "file_extension": ".py",
   "mimetype": "text/x-python",
   "name": "python",
   "nbconvert_exporter": "python",
   "pygments_lexer": "ipython3",
   "version": "3.8.8"
  }
 },
 "nbformat": 4,
 "nbformat_minor": 1
}
